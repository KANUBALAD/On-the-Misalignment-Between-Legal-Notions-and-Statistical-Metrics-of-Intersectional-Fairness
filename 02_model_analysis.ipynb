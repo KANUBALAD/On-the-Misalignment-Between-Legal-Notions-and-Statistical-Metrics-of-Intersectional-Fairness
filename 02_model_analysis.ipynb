{
 "cells": [
  {
   "cell_type": "markdown",
   "metadata": {},
   "source": [
    "# Model Significance Test Analysis"
   ]
  },
  {
   "cell_type": "code",
   "execution_count": 1,
   "metadata": {},
   "outputs": [],
   "source": [
    "\n",
    "%load_ext autoreload\n",
    "%autoreload \n",
    "from utlis import load_datasets\n",
    "from model_fitting import function_ols_fitting, function_logistic_fitting"
   ]
  },
  {
   "cell_type": "code",
   "execution_count": 2,
   "metadata": {},
   "outputs": [],
   "source": [
    "get_model_summary = True"
   ]
  },
  {
   "cell_type": "markdown",
   "metadata": {},
   "source": [
    "## Analysis with Datasets with  No Discrimination"
   ]
  },
  {
   "cell_type": "code",
   "execution_count": 3,
   "metadata": {},
   "outputs": [],
   "source": [
    "config_path = './configs/synthetic_no_discr_config.yaml'\n",
    "no_discrimination_df = load_datasets(config_path, interactions_enabled = False)\n",
    "no_discrimination_df_intersectional = load_datasets(config_path, interactions_enabled = True)"
   ]
  },
  {
   "cell_type": "markdown",
   "metadata": {},
   "source": [
    "### Discrimination in Treatment (Z)"
   ]
  },
  {
   "cell_type": "code",
   "execution_count": 4,
   "metadata": {},
   "outputs": [
    {
     "name": "stdout",
     "output_type": "stream",
     "text": [
      "Fitting OLS model for target for No Discrimination Dataset + Model no interaction: LoanAmount\n",
      "                            OLS Regression Results                            \n",
      "==============================================================================\n",
      "Dep. Variable:             LoanAmount   R-squared:                       0.179\n",
      "Model:                            OLS   Adj. R-squared:                  0.178\n",
      "Method:                 Least Squares   F-statistic:                     434.5\n",
      "Date:                Thu, 03 Jul 2025   Prob (F-statistic):               0.00\n",
      "Time:                        17:50:06   Log-Likelihood:                -37298.\n",
      "No. Observations:               10000   AIC:                         7.461e+04\n",
      "Df Residuals:                    9994   BIC:                         7.465e+04\n",
      "Df Model:                           5                                         \n",
      "Covariance Type:            nonrobust                                         \n",
      "==============================================================================\n",
      "                 coef    std err          t      P>|t|      [0.025      0.975]\n",
      "------------------------------------------------------------------------------\n",
      "const          1.2739      0.291      4.380      0.000       0.704       1.844\n",
      "Gender        -0.4482      0.202     -2.221      0.026      -0.844      -0.053\n",
      "Race          -0.0863      0.202     -0.428      0.669      -0.482       0.309\n",
      "Education     -0.0510      0.415     -0.123      0.902      -0.865       0.763\n",
      "Income        -0.7972      0.025    -31.835      0.000      -0.846      -0.748\n",
      "Savings       -0.5843      0.020    -29.155      0.000      -0.624      -0.545\n",
      "==============================================================================\n",
      "Omnibus:                        4.052   Durbin-Watson:                   1.966\n",
      "Prob(Omnibus):                  0.132   Jarque-Bera (JB):                4.067\n",
      "Skew:                          -0.049   Prob(JB):                        0.131\n",
      "Kurtosis:                       2.988   Cond. No.                         38.1\n",
      "==============================================================================\n",
      "\n",
      "Notes:\n",
      "[1] Standard Errors assume that the covariance matrix of the errors is correctly specified.\n",
      "Fitting OLS model for target for No Discrimination Dataset + Model no interaction: Duration\n",
      "                            OLS Regression Results                            \n",
      "==============================================================================\n",
      "Dep. Variable:               Duration   R-squared:                       0.236\n",
      "Model:                            OLS   Adj. R-squared:                  0.236\n",
      "Method:                 Least Squares   F-statistic:                     618.9\n",
      "Date:                Thu, 03 Jul 2025   Prob (F-statistic):               0.00\n",
      "Time:                        17:50:06   Log-Likelihood:                -40193.\n",
      "No. Observations:               10000   AIC:                         8.040e+04\n",
      "Df Residuals:                    9994   BIC:                         8.044e+04\n",
      "Df Model:                           5                                         \n",
      "Covariance Type:            nonrobust                                         \n",
      "==============================================================================\n",
      "                 coef    std err          t      P>|t|      [0.025      0.975]\n",
      "------------------------------------------------------------------------------\n",
      "const          0.2409      0.389      0.620      0.535      -0.521       1.002\n",
      "Gender        -0.4780      0.270     -1.774      0.076      -1.006       0.050\n",
      "Race           0.3362      0.270      1.247      0.212      -0.192       0.864\n",
      "Education     -0.2012      0.555     -0.363      0.717      -1.288       0.886\n",
      "Income        -1.5769      0.033    -47.139      0.000      -1.642      -1.511\n",
      "Savings       -0.5848      0.027    -21.842      0.000      -0.637      -0.532\n",
      "==============================================================================\n",
      "Omnibus:                        2.803   Durbin-Watson:                   1.999\n",
      "Prob(Omnibus):                  0.246   Jarque-Bera (JB):                2.762\n",
      "Skew:                          -0.022   Prob(JB):                        0.251\n",
      "Kurtosis:                       2.932   Cond. No.                         38.1\n",
      "==============================================================================\n",
      "\n",
      "Notes:\n",
      "[1] Standard Errors assume that the covariance matrix of the errors is correctly specified.\n",
      "The summary results are: {'LoanAmount': {'MSE': 101.66875009869423, 'R2': 0.1785795426445762}, 'Duration': {'MSE': 181.4138122515005, 'R2': 0.23642536537494951}}\n"
     ]
    }
   ],
   "source": [
    "models, predictions = function_ols_fitting(no_discrimination_df, get_model_summary = get_model_summary, scenario='No Discrimination Dataset + Model no interaction')"
   ]
  },
  {
   "cell_type": "code",
   "execution_count": 5,
   "metadata": {},
   "outputs": [
    {
     "name": "stdout",
     "output_type": "stream",
     "text": [
      "Fitting OLS model for target for No Discrimination + Model with interaction: LoanAmount\n",
      "                            OLS Regression Results                            \n",
      "==============================================================================\n",
      "Dep. Variable:             LoanAmount   R-squared:                       0.179\n",
      "Model:                            OLS   Adj. R-squared:                  0.178\n",
      "Method:                 Least Squares   F-statistic:                     362.2\n",
      "Date:                Thu, 03 Jul 2025   Prob (F-statistic):               0.00\n",
      "Time:                        17:50:06   Log-Likelihood:                -37298.\n",
      "No. Observations:               10000   AIC:                         7.461e+04\n",
      "Df Residuals:                    9993   BIC:                         7.466e+04\n",
      "Df Model:                           6                                         \n",
      "Covariance Type:            nonrobust                                         \n",
      "==================================================================================\n",
      "                     coef    std err          t      P>|t|      [0.025      0.975]\n",
      "----------------------------------------------------------------------------------\n",
      "const              1.3357      0.307      4.356      0.000       0.735       1.937\n",
      "Gender            -0.5784      0.287     -2.014      0.044      -1.141      -0.015\n",
      "Race              -0.2129      0.283     -0.752      0.452      -0.768       0.342\n",
      "interaction_sr     0.2572      0.404      0.637      0.524      -0.534       1.048\n",
      "Education         -0.0516      0.415     -0.124      0.901      -0.865       0.762\n",
      "Income            -0.7974      0.025    -31.839      0.000      -0.846      -0.748\n",
      "Savings           -0.5845      0.020    -29.160      0.000      -0.624      -0.545\n",
      "==============================================================================\n",
      "Omnibus:                        4.035   Durbin-Watson:                   1.967\n",
      "Prob(Omnibus):                  0.133   Jarque-Bera (JB):                4.050\n",
      "Skew:                          -0.049   Prob(JB):                        0.132\n",
      "Kurtosis:                       2.988   Cond. No.                         44.0\n",
      "==============================================================================\n",
      "\n",
      "Notes:\n",
      "[1] Standard Errors assume that the covariance matrix of the errors is correctly specified.\n",
      "Fitting OLS model for target for No Discrimination + Model with interaction: Duration\n",
      "                            OLS Regression Results                            \n",
      "==============================================================================\n",
      "Dep. Variable:               Duration   R-squared:                       0.236\n",
      "Model:                            OLS   Adj. R-squared:                  0.236\n",
      "Method:                 Least Squares   F-statistic:                     515.7\n",
      "Date:                Thu, 03 Jul 2025   Prob (F-statistic):               0.00\n",
      "Time:                        17:50:06   Log-Likelihood:                -40193.\n",
      "No. Observations:               10000   AIC:                         8.040e+04\n",
      "Df Residuals:                    9993   BIC:                         8.045e+04\n",
      "Df Model:                           6                                         \n",
      "Covariance Type:            nonrobust                                         \n",
      "==================================================================================\n",
      "                     coef    std err          t      P>|t|      [0.025      0.975]\n",
      "----------------------------------------------------------------------------------\n",
      "const              0.3063      0.410      0.748      0.455      -0.497       1.109\n",
      "Gender            -0.6158      0.384     -1.605      0.109      -1.368       0.136\n",
      "Race               0.2022      0.378      0.535      0.593      -0.539       0.944\n",
      "interaction_sr     0.2721      0.539      0.505      0.614      -0.785       1.329\n",
      "Education         -0.2018      0.555     -0.364      0.716      -1.289       0.885\n",
      "Income            -1.5771      0.033    -47.140      0.000      -1.643      -1.511\n",
      "Savings           -0.5850      0.027    -21.846      0.000      -0.637      -0.532\n",
      "==============================================================================\n",
      "Omnibus:                        2.772   Durbin-Watson:                   1.999\n",
      "Prob(Omnibus):                  0.250   Jarque-Bera (JB):                2.731\n",
      "Skew:                          -0.022   Prob(JB):                        0.255\n",
      "Kurtosis:                       2.932   Cond. No.                         44.0\n",
      "==============================================================================\n",
      "\n",
      "Notes:\n",
      "[1] Standard Errors assume that the covariance matrix of the errors is correctly specified.\n",
      "The summary results are: {'LoanAmount': {'MSE': 101.66461953099713, 'R2': 0.17861291507025867}, 'Duration': {'MSE': 181.40918840178853, 'R2': 0.23644482725776084}}\n"
     ]
    }
   ],
   "source": [
    "models, performance = function_ols_fitting(no_discrimination_df_intersectional, get_model_summary = get_model_summary, scenario='No Discrimination + Model with interaction')"
   ]
  },
  {
   "cell_type": "markdown",
   "metadata": {},
   "source": [
    "### Discrimination in outcome(Y)"
   ]
  },
  {
   "cell_type": "code",
   "execution_count": 6,
   "metadata": {},
   "outputs": [
    {
     "name": "stdout",
     "output_type": "stream",
     "text": [
      "Fitting Logistic Regression model for No Discrimination + Model no interaction\n",
      "Optimization terminated successfully.\n",
      "         Current function value: 0.397006\n",
      "         Iterations 7\n",
      "                           Logit Regression Results                           \n",
      "==============================================================================\n",
      "Dep. Variable:                      Y   No. Observations:                10000\n",
      "Model:                          Logit   Df Residuals:                     9994\n",
      "Method:                           MLE   Df Model:                            5\n",
      "Date:                Thu, 03 Jul 2025   Pseudo R-squ.:                  0.4262\n",
      "Time:                        17:50:07   Log-Likelihood:                -3970.1\n",
      "converged:                       True   LL-Null:                       -6919.4\n",
      "Covariance Type:            nonrobust   LLR p-value:                     0.000\n",
      "==============================================================================\n",
      "                 coef    std err          z      P>|z|      [0.025      0.975]\n",
      "------------------------------------------------------------------------------\n",
      "const         -3.4053      0.101    -33.681      0.000      -3.603      -3.207\n",
      "Gender        -0.1109      0.056     -1.983      0.047      -0.221      -0.001\n",
      "Race           0.0526      0.056      0.940      0.347      -0.057       0.162\n",
      "Education     -0.0136      0.116     -0.118      0.906      -0.241       0.214\n",
      "Income        -0.3808      0.010    -39.572      0.000      -0.400      -0.362\n",
      "Savings       -0.3900      0.009    -45.286      0.000      -0.407      -0.373\n",
      "==============================================================================\n",
      "Performance: {'Accuracy': 0.8151, 'F1 Score': 0.8255166556572615, 'ROC AUC': 0.9010807521117918, 'Confusion Matrix': [[3777, 977], [872, 4374]]}\n"
     ]
    }
   ],
   "source": [
    "logit_results, probabilities= function_logistic_fitting(no_discrimination_df, get_model_summary = get_model_summary, scenario='No Discrimination + Model no interaction')"
   ]
  },
  {
   "cell_type": "code",
   "execution_count": 7,
   "metadata": {},
   "outputs": [
    {
     "name": "stdout",
     "output_type": "stream",
     "text": [
      "Fitting Logistic Regression model for No Discrimination + Model with interaction\n",
      "Optimization terminated successfully.\n",
      "         Current function value: 0.396994\n",
      "         Iterations 7\n",
      "                           Logit Regression Results                           \n",
      "==============================================================================\n",
      "Dep. Variable:                      Y   No. Observations:                10000\n",
      "Model:                          Logit   Df Residuals:                     9993\n",
      "Method:                           MLE   Df Model:                            6\n",
      "Date:                Thu, 03 Jul 2025   Pseudo R-squ.:                  0.4263\n",
      "Time:                        17:50:07   Log-Likelihood:                -3969.9\n",
      "converged:                       True   LL-Null:                       -6919.4\n",
      "Covariance Type:            nonrobust   LLR p-value:                     0.000\n",
      "==================================================================================\n",
      "                     coef    std err          z      P>|z|      [0.025      0.975]\n",
      "----------------------------------------------------------------------------------\n",
      "const             -3.4189      0.105    -32.569      0.000      -3.625      -3.213\n",
      "Gender            -0.0832      0.080     -1.041      0.298      -0.240       0.073\n",
      "Race               0.0796      0.079      1.011      0.312      -0.075       0.234\n",
      "interaction_sr    -0.0544      0.112     -0.487      0.627      -0.274       0.165\n",
      "Education         -0.0135      0.116     -0.117      0.907      -0.241       0.214\n",
      "Income            -0.3808      0.010    -39.570      0.000      -0.400      -0.362\n",
      "Savings           -0.3899      0.009    -45.281      0.000      -0.407      -0.373\n",
      "==================================================================================\n",
      "Performance: {'Accuracy': 0.8148, 'F1 Score': 0.825250047178713, 'ROC AUC': 0.9010835990030909, 'Confusion Matrix': [[3775, 979], [873, 4373]]}\n"
     ]
    }
   ],
   "source": [
    "logit_results, probabilities= function_logistic_fitting(no_discrimination_df_intersectional, get_model_summary = get_model_summary, scenario='No Discrimination + Model with interaction')"
   ]
  },
  {
   "cell_type": "markdown",
   "metadata": {},
   "source": [
    "## Analysis with Datasets with Single Discrimination on Gender"
   ]
  },
  {
   "cell_type": "code",
   "execution_count": 8,
   "metadata": {},
   "outputs": [],
   "source": [
    "config_path = './configs/single_discr_config.yaml'\n",
    "\n",
    "single_discrimination_df = load_datasets(config_path, interactions_enabled = False)\n",
    "single_discrimination_df_intersectional = load_datasets(config_path, interactions_enabled = True)\n"
   ]
  },
  {
   "cell_type": "markdown",
   "metadata": {},
   "source": [
    "### Discrimination in Treatment (Z)"
   ]
  },
  {
   "cell_type": "code",
   "execution_count": 9,
   "metadata": {},
   "outputs": [
    {
     "name": "stdout",
     "output_type": "stream",
     "text": [
      "Fitting OLS model for target for Single Discrimination + Model no interaction: LoanAmount\n",
      "                            OLS Regression Results                            \n",
      "==============================================================================\n",
      "Dep. Variable:             LoanAmount   R-squared:                       0.239\n",
      "Model:                            OLS   Adj. R-squared:                  0.239\n",
      "Method:                 Least Squares   F-statistic:                     629.0\n",
      "Date:                Thu, 03 Jul 2025   Prob (F-statistic):               0.00\n",
      "Time:                        17:50:07   Log-Likelihood:                -37298.\n",
      "No. Observations:               10000   AIC:                         7.461e+04\n",
      "Df Residuals:                    9994   BIC:                         7.465e+04\n",
      "Df Model:                           5                                         \n",
      "Covariance Type:            nonrobust                                         \n",
      "==============================================================================\n",
      "                 coef    std err          t      P>|t|      [0.025      0.975]\n",
      "------------------------------------------------------------------------------\n",
      "const          1.2537      0.287      4.373      0.000       0.692       1.816\n",
      "Gender         9.0433      0.246     36.714      0.000       8.560       9.526\n",
      "Race          -0.0871      0.202     -0.431      0.666      -0.483       0.308\n",
      "Education     -0.0501      0.415     -0.121      0.904      -0.864       0.764\n",
      "Income        -0.8011      0.026    -30.823      0.000      -0.852      -0.750\n",
      "Savings       -0.5842      0.019    -30.281      0.000      -0.622      -0.546\n",
      "==============================================================================\n",
      "Omnibus:                        4.044   Durbin-Watson:                   1.966\n",
      "Prob(Omnibus):                  0.132   Jarque-Bera (JB):                4.058\n",
      "Skew:                          -0.049   Prob(JB):                        0.131\n",
      "Kurtosis:                       2.988   Cond. No.                         35.3\n",
      "==============================================================================\n",
      "\n",
      "Notes:\n",
      "[1] Standard Errors assume that the covariance matrix of the errors is correctly specified.\n",
      "Fitting OLS model for target for Single Discrimination + Model no interaction: Duration\n",
      "                            OLS Regression Results                            \n",
      "==============================================================================\n",
      "Dep. Variable:               Duration   R-squared:                       0.310\n",
      "Model:                            OLS   Adj. R-squared:                  0.310\n",
      "Method:                 Least Squares   F-statistic:                     899.0\n",
      "Date:                Thu, 03 Jul 2025   Prob (F-statistic):               0.00\n",
      "Time:                        17:50:07   Log-Likelihood:                -40193.\n",
      "No. Observations:               10000   AIC:                         8.040e+04\n",
      "Df Residuals:                    9994   BIC:                         8.044e+04\n",
      "Df Model:                           5                                         \n",
      "Covariance Type:            nonrobust                                         \n",
      "==============================================================================\n",
      "                 coef    std err          t      P>|t|      [0.025      0.975]\n",
      "------------------------------------------------------------------------------\n",
      "const          0.2287      0.383      0.597      0.550      -0.522       0.980\n",
      "Gender         0.4557      0.329      1.385      0.166      -0.189       1.101\n",
      "Race           0.3346      0.270      1.242      0.214      -0.194       0.863\n",
      "Education     -0.2005      0.555     -0.362      0.718      -1.288       0.887\n",
      "Income        -1.5825      0.035    -45.583      0.000      -1.651      -1.514\n",
      "Savings       -0.5799      0.026    -22.502      0.000      -0.630      -0.529\n",
      "==============================================================================\n",
      "Omnibus:                        2.785   Durbin-Watson:                   1.999\n",
      "Prob(Omnibus):                  0.248   Jarque-Bera (JB):                2.745\n",
      "Skew:                          -0.022   Prob(JB):                        0.253\n",
      "Kurtosis:                       2.932   Cond. No.                         35.3\n",
      "==============================================================================\n",
      "\n",
      "Notes:\n",
      "[1] Standard Errors assume that the covariance matrix of the errors is correctly specified.\n",
      "The summary results are: {'LoanAmount': {'MSE': 101.66812801817089, 'R2': 0.239357777793769}, 'Duration': {'MSE': 181.40862047463315, 'R2': 0.3102413667340542}}\n"
     ]
    }
   ],
   "source": [
    "models_single, performance_single = function_ols_fitting(single_discrimination_df, get_model_summary = get_model_summary, scenario='Single Discrimination + Model no interaction')\n"
   ]
  },
  {
   "cell_type": "code",
   "execution_count": 10,
   "metadata": {},
   "outputs": [
    {
     "name": "stdout",
     "output_type": "stream",
     "text": [
      "Fitting OLS model for target for Single Discrimination + Model with interaction: LoanAmount\n",
      "                            OLS Regression Results                            \n",
      "==============================================================================\n",
      "Dep. Variable:             LoanAmount   R-squared:                       0.239\n",
      "Model:                            OLS   Adj. R-squared:                  0.239\n",
      "Method:                 Least Squares   F-statistic:                     524.2\n",
      "Date:                Thu, 03 Jul 2025   Prob (F-statistic):               0.00\n",
      "Time:                        17:50:07   Log-Likelihood:                -37298.\n",
      "No. Observations:               10000   AIC:                         7.461e+04\n",
      "Df Residuals:                    9993   BIC:                         7.466e+04\n",
      "Df Model:                           6                                         \n",
      "Covariance Type:            nonrobust                                         \n",
      "==================================================================================\n",
      "                     coef    std err          t      P>|t|      [0.025      0.975]\n",
      "----------------------------------------------------------------------------------\n",
      "const              1.3157      0.303      4.344      0.000       0.722       1.909\n",
      "Gender             8.9146      0.319     27.949      0.000       8.289       9.540\n",
      "Race              -0.2133      0.283     -0.753      0.451      -0.768       0.342\n",
      "interaction_sr     0.2564      0.404      0.635      0.525      -0.535       1.048\n",
      "Education         -0.0508      0.415     -0.122      0.903      -0.865       0.763\n",
      "Income            -0.8012      0.026    -30.826      0.000      -0.852      -0.750\n",
      "Savings           -0.5844      0.019    -30.287      0.000      -0.622      -0.547\n",
      "==============================================================================\n",
      "Omnibus:                        4.027   Durbin-Watson:                   1.967\n",
      "Prob(Omnibus):                  0.134   Jarque-Bera (JB):                4.041\n",
      "Skew:                          -0.049   Prob(JB):                        0.133\n",
      "Kurtosis:                       2.988   Cond. No.                         41.0\n",
      "==============================================================================\n",
      "\n",
      "Notes:\n",
      "[1] Standard Errors assume that the covariance matrix of the errors is correctly specified.\n",
      "Fitting OLS model for target for Single Discrimination + Model with interaction: Duration\n",
      "                            OLS Regression Results                            \n",
      "==============================================================================\n",
      "Dep. Variable:               Duration   R-squared:                       0.310\n",
      "Model:                            OLS   Adj. R-squared:                  0.310\n",
      "Method:                 Least Squares   F-statistic:                     749.2\n",
      "Date:                Thu, 03 Jul 2025   Prob (F-statistic):               0.00\n",
      "Time:                        17:50:07   Log-Likelihood:                -40193.\n",
      "No. Observations:               10000   AIC:                         8.040e+04\n",
      "Df Residuals:                    9993   BIC:                         8.045e+04\n",
      "Df Model:                           6                                         \n",
      "Covariance Type:            nonrobust                                         \n",
      "==================================================================================\n",
      "                     coef    std err          t      P>|t|      [0.025      0.975]\n",
      "----------------------------------------------------------------------------------\n",
      "const              0.2939      0.405      0.726      0.468      -0.499       1.087\n",
      "Gender             0.3203      0.426      0.752      0.452      -0.515       1.155\n",
      "Race               0.2019      0.378      0.534      0.594      -0.540       0.943\n",
      "interaction_sr     0.2697      0.539      0.500      0.617      -0.787       1.327\n",
      "Education         -0.2012      0.555     -0.363      0.717      -1.288       0.886\n",
      "Income            -1.5826      0.035    -45.583      0.000      -1.651      -1.515\n",
      "Savings           -0.5801      0.026    -22.507      0.000      -0.631      -0.530\n",
      "==============================================================================\n",
      "Omnibus:                        2.754   Durbin-Watson:                   1.999\n",
      "Prob(Omnibus):                  0.252   Jarque-Bera (JB):                2.715\n",
      "Skew:                          -0.022   Prob(JB):                        0.257\n",
      "Kurtosis:                       2.932   Cond. No.                         41.0\n",
      "==============================================================================\n",
      "\n",
      "Notes:\n",
      "[1] Standard Errors assume that the covariance matrix of the errors is correctly specified.\n",
      "The summary results are: {'LoanAmount': {'MSE': 101.66402237385492, 'R2': 0.239388494661257}, 'Duration': {'MSE': 181.40407791594507, 'R2': 0.31025863862038483}}\n"
     ]
    }
   ],
   "source": [
    "models_single, performance_single = function_ols_fitting(single_discrimination_df_intersectional, get_model_summary = get_model_summary, scenario='Single Discrimination + Model with interaction')\n"
   ]
  },
  {
   "cell_type": "markdown",
   "metadata": {},
   "source": [
    "### Discrimination in Outcome (Y)"
   ]
  },
  {
   "cell_type": "code",
   "execution_count": 11,
   "metadata": {},
   "outputs": [
    {
     "name": "stdout",
     "output_type": "stream",
     "text": [
      "Fitting Logistic Regression model for Single Discrimination + Model no interaction\n",
      "Optimization terminated successfully.\n",
      "         Current function value: 0.408656\n",
      "         Iterations 7\n",
      "                           Logit Regression Results                           \n",
      "==============================================================================\n",
      "Dep. Variable:                      Y   No. Observations:                10000\n",
      "Model:                          Logit   Df Residuals:                     9994\n",
      "Method:                           MLE   Df Model:                            5\n",
      "Date:                Thu, 03 Jul 2025   Pseudo R-squ.:                  0.4057\n",
      "Time:                        17:50:07   Log-Likelihood:                -4086.6\n",
      "converged:                       True   LL-Null:                       -6876.0\n",
      "Covariance Type:            nonrobust   LLR p-value:                     0.000\n",
      "==============================================================================\n",
      "                 coef    std err          z      P>|z|      [0.025      0.975]\n",
      "------------------------------------------------------------------------------\n",
      "const         -2.9961      0.095    -31.681      0.000      -3.181      -2.811\n",
      "Gender         0.7417      0.067     11.087      0.000       0.611       0.873\n",
      "Race           0.0378      0.055      0.688      0.492      -0.070       0.146\n",
      "Education     -0.0670      0.114     -0.587      0.558      -0.291       0.157\n",
      "Income        -0.3601      0.009    -38.341      0.000      -0.379      -0.342\n",
      "Savings       -0.3020      0.007    -40.804      0.000      -0.316      -0.287\n",
      "==============================================================================\n",
      "Performance: {'Accuracy': 0.8107, 'F1 Score': 0.7873272665992586, 'ROC AUC': 0.8927646622274578, 'Confusion Matrix': [[4603, 923], [970, 3504]]}\n"
     ]
    }
   ],
   "source": [
    "logit_results, probabilities= function_logistic_fitting(single_discrimination_df, get_model_summary = get_model_summary, scenario='Single Discrimination + Model no interaction')"
   ]
  },
  {
   "cell_type": "code",
   "execution_count": 12,
   "metadata": {},
   "outputs": [
    {
     "name": "stdout",
     "output_type": "stream",
     "text": [
      "Fitting Logistic Regression model for Single Discrimination + Model with interaction\n",
      "Optimization terminated successfully.\n",
      "         Current function value: 0.408619\n",
      "         Iterations 7\n",
      "                           Logit Regression Results                           \n",
      "==============================================================================\n",
      "Dep. Variable:                      Y   No. Observations:                10000\n",
      "Model:                          Logit   Df Residuals:                     9993\n",
      "Method:                           MLE   Df Model:                            6\n",
      "Date:                Thu, 03 Jul 2025   Pseudo R-squ.:                  0.4057\n",
      "Time:                        17:50:07   Log-Likelihood:                -4086.2\n",
      "converged:                       True   LL-Null:                       -6876.0\n",
      "Covariance Type:            nonrobust   LLR p-value:                     0.000\n",
      "==================================================================================\n",
      "                     coef    std err          z      P>|z|      [0.025      0.975]\n",
      "----------------------------------------------------------------------------------\n",
      "const             -3.0178      0.098    -30.796      0.000      -3.210      -2.826\n",
      "Gender             0.7897      0.087      9.044      0.000       0.619       0.961\n",
      "Race               0.0808      0.074      1.085      0.278      -0.065       0.227\n",
      "interaction_sr    -0.0944      0.110     -0.856      0.392      -0.311       0.122\n",
      "Education         -0.0666      0.114     -0.584      0.560      -0.290       0.157\n",
      "Income            -0.3602      0.009    -38.338      0.000      -0.379      -0.342\n",
      "Savings           -0.3019      0.007    -40.794      0.000      -0.316      -0.287\n",
      "==================================================================================\n",
      "Performance: {'Accuracy': 0.8103, 'F1 Score': 0.7870692558087328, 'ROC AUC': 0.892789577970988, 'Confusion Matrix': [[4597, 929], [968, 3506]]}\n"
     ]
    }
   ],
   "source": [
    "logit_results, probabilities= function_logistic_fitting(single_discrimination_df_intersectional,get_model_summary = get_model_summary, scenario='Single Discrimination + Model with interaction')"
   ]
  },
  {
   "cell_type": "markdown",
   "metadata": {},
   "source": [
    "## Analysis with Datasets with Multiple Discrimination on Gender & Race"
   ]
  },
  {
   "cell_type": "code",
   "execution_count": 13,
   "metadata": {},
   "outputs": [],
   "source": [
    "config_path = './configs/multiple_discr_config.yaml'\n",
    "\n",
    "multiple_discrimination_df = load_datasets(config_path, interactions_enabled = False)\n",
    "multiple_discrimination_df_intersectional = load_datasets(config_path, interactions_enabled = True)\n"
   ]
  },
  {
   "cell_type": "markdown",
   "metadata": {},
   "source": [
    "### Discrimination in Treatment (Z)"
   ]
  },
  {
   "cell_type": "code",
   "execution_count": 14,
   "metadata": {},
   "outputs": [
    {
     "name": "stdout",
     "output_type": "stream",
     "text": [
      "Fitting OLS model for target for Multiple Discrimination + Model no interaction: LoanAmount\n",
      "                            OLS Regression Results                            \n",
      "==============================================================================\n",
      "Dep. Variable:             LoanAmount   R-squared:                       0.285\n",
      "Model:                            OLS   Adj. R-squared:                  0.284\n",
      "Method:                 Least Squares   F-statistic:                     795.5\n",
      "Date:                Thu, 03 Jul 2025   Prob (F-statistic):               0.00\n",
      "Time:                        17:50:08   Log-Likelihood:                -37298.\n",
      "No. Observations:               10000   AIC:                         7.461e+04\n",
      "Df Residuals:                    9994   BIC:                         7.465e+04\n",
      "Df Model:                           5                                         \n",
      "Covariance Type:            nonrobust                                         \n",
      "==============================================================================\n",
      "                 coef    std err          t      P>|t|      [0.025      0.975]\n",
      "------------------------------------------------------------------------------\n",
      "const          1.2386      0.286      4.338      0.000       0.679       1.798\n",
      "Gender         8.9390      0.239     37.440      0.000       8.471       9.407\n",
      "Race           8.9044      0.243     36.585      0.000       8.427       9.381\n",
      "Education     -0.0500      0.415     -0.121      0.904      -0.864       0.764\n",
      "Income        -0.8026      0.028    -29.070      0.000      -0.857      -0.748\n",
      "Savings       -0.5881      0.019    -31.739      0.000      -0.624      -0.552\n",
      "==============================================================================\n",
      "Omnibus:                        4.052   Durbin-Watson:                   1.966\n",
      "Prob(Omnibus):                  0.132   Jarque-Bera (JB):                4.066\n",
      "Skew:                          -0.049   Prob(JB):                        0.131\n",
      "Kurtosis:                       2.988   Cond. No.                         36.9\n",
      "==============================================================================\n",
      "\n",
      "Notes:\n",
      "[1] Standard Errors assume that the covariance matrix of the errors is correctly specified.\n",
      "Fitting OLS model for target for Multiple Discrimination + Model no interaction: Duration\n",
      "                            OLS Regression Results                            \n",
      "==============================================================================\n",
      "Dep. Variable:               Duration   R-squared:                       0.374\n",
      "Model:                            OLS   Adj. R-squared:                  0.374\n",
      "Method:                 Least Squares   F-statistic:                     1195.\n",
      "Date:                Thu, 03 Jul 2025   Prob (F-statistic):               0.00\n",
      "Time:                        17:50:08   Log-Likelihood:                -40193.\n",
      "No. Observations:               10000   AIC:                         8.040e+04\n",
      "Df Residuals:                    9994   BIC:                         8.044e+04\n",
      "Df Model:                           5                                         \n",
      "Covariance Type:            nonrobust                                         \n",
      "==============================================================================\n",
      "                 coef    std err          t      P>|t|      [0.025      0.975]\n",
      "------------------------------------------------------------------------------\n",
      "const          0.2088      0.381      0.548      0.584      -0.539       0.956\n",
      "Gender         0.8461      0.319      2.653      0.008       0.221       1.471\n",
      "Race           0.9739      0.325      2.995      0.003       0.337       1.611\n",
      "Education     -0.2003      0.555     -0.361      0.718      -1.287       0.887\n",
      "Income        -1.5839      0.037    -42.949      0.000      -1.656      -1.512\n",
      "Savings       -0.5857      0.025    -23.662      0.000      -0.634      -0.537\n",
      "==============================================================================\n",
      "Omnibus:                        2.791   Durbin-Watson:                   1.999\n",
      "Prob(Omnibus):                  0.248   Jarque-Bera (JB):                2.750\n",
      "Skew:                          -0.022   Prob(JB):                        0.253\n",
      "Kurtosis:                       2.932   Cond. No.                         36.9\n",
      "==============================================================================\n",
      "\n",
      "Notes:\n",
      "[1] Standard Errors assume that the covariance matrix of the errors is correctly specified.\n",
      "The summary results are: {'LoanAmount': {'MSE': 101.67078302556882, 'R2': 0.2846920558145798}, 'Duration': {'MSE': 181.41359613905567, 'R2': 0.37422277930179326}}\n"
     ]
    }
   ],
   "source": [
    "models_multiple, performance_multiple = function_ols_fitting(multiple_discrimination_df,get_model_summary = get_model_summary,  scenario='Multiple Discrimination + Model no interaction')\n"
   ]
  },
  {
   "cell_type": "code",
   "execution_count": 15,
   "metadata": {},
   "outputs": [
    {
     "name": "stdout",
     "output_type": "stream",
     "text": [
      "Fitting OLS model for target for Multiple Discrimination + Model with interaction: LoanAmount\n",
      "                            OLS Regression Results                            \n",
      "==============================================================================\n",
      "Dep. Variable:             LoanAmount   R-squared:                       0.285\n",
      "Model:                            OLS   Adj. R-squared:                  0.284\n",
      "Method:                 Least Squares   F-statistic:                     662.9\n",
      "Date:                Thu, 03 Jul 2025   Prob (F-statistic):               0.00\n",
      "Time:                        17:50:08   Log-Likelihood:                -37298.\n",
      "No. Observations:               10000   AIC:                         7.461e+04\n",
      "Df Residuals:                    9993   BIC:                         7.466e+04\n",
      "Df Model:                           6                                         \n",
      "Covariance Type:            nonrobust                                         \n",
      "==================================================================================\n",
      "                     coef    std err          t      P>|t|      [0.025      0.975]\n",
      "----------------------------------------------------------------------------------\n",
      "const              1.2935      0.301      4.290      0.000       0.702       1.884\n",
      "Gender             8.8230      0.315     28.052      0.000       8.206       9.439\n",
      "Race               8.7917      0.314     27.984      0.000       8.176       9.408\n",
      "interaction_sr     0.2309      0.407      0.567      0.571      -0.568       1.029\n",
      "Education         -0.0506      0.415     -0.122      0.903      -0.864       0.763\n",
      "Income            -0.8018      0.028    -29.010      0.000      -0.856      -0.748\n",
      "Savings           -0.5896      0.019    -31.521      0.000      -0.626      -0.553\n",
      "==============================================================================\n",
      "Omnibus:                        4.033   Durbin-Watson:                   1.967\n",
      "Prob(Omnibus):                  0.133   Jarque-Bera (JB):                4.047\n",
      "Skew:                          -0.049   Prob(JB):                        0.132\n",
      "Kurtosis:                       2.988   Cond. No.                         43.5\n",
      "==============================================================================\n",
      "\n",
      "Notes:\n",
      "[1] Standard Errors assume that the covariance matrix of the errors is correctly specified.\n",
      "Fitting OLS model for target for Multiple Discrimination + Model with interaction: Duration\n",
      "                            OLS Regression Results                            \n",
      "==============================================================================\n",
      "Dep. Variable:               Duration   R-squared:                       0.374\n",
      "Model:                            OLS   Adj. R-squared:                  0.374\n",
      "Method:                 Least Squares   F-statistic:                     996.0\n",
      "Date:                Thu, 03 Jul 2025   Prob (F-statistic):               0.00\n",
      "Time:                        17:50:08   Log-Likelihood:                -40193.\n",
      "No. Observations:               10000   AIC:                         8.040e+04\n",
      "Df Residuals:                    9993   BIC:                         8.045e+04\n",
      "Df Model:                           6                                         \n",
      "Covariance Type:            nonrobust                                         \n",
      "==================================================================================\n",
      "                     coef    std err          t      P>|t|      [0.025      0.975]\n",
      "----------------------------------------------------------------------------------\n",
      "const              0.2655      0.403      0.659      0.510      -0.524       1.055\n",
      "Gender             0.7262      0.420      1.728      0.084      -0.097       1.550\n",
      "Race               0.8575      0.420      2.043      0.041       0.035       1.680\n",
      "interaction_sr     0.2386      0.544      0.438      0.661      -0.828       1.305\n",
      "Education         -0.2009      0.555     -0.362      0.717      -1.288       0.886\n",
      "Income            -1.5831      0.037    -42.879      0.000      -1.655      -1.511\n",
      "Savings           -0.5871      0.025    -23.501      0.000      -0.636      -0.538\n",
      "==============================================================================\n",
      "Omnibus:                        2.763   Durbin-Watson:                   1.999\n",
      "Prob(Omnibus):                  0.251   Jarque-Bera (JB):                2.723\n",
      "Skew:                          -0.022   Prob(JB):                        0.256\n",
      "Kurtosis:                       2.932   Cond. No.                         43.5\n",
      "==============================================================================\n",
      "\n",
      "Notes:\n",
      "[1] Standard Errors assume that the covariance matrix of the errors is correctly specified.\n",
      "The summary results are: {'LoanAmount': {'MSE': 101.66751340742913, 'R2': 0.28471505931430885}, 'Duration': {'MSE': 181.41010563091916, 'R2': 0.37423481963684513}}\n"
     ]
    }
   ],
   "source": [
    "models_multiple, performance_multiple = function_ols_fitting(multiple_discrimination_df_intersectional, get_model_summary = get_model_summary, scenario='Multiple Discrimination + Model with interaction')\n"
   ]
  },
  {
   "cell_type": "markdown",
   "metadata": {},
   "source": [
    "### Discrimination in Outcome (Y)"
   ]
  },
  {
   "cell_type": "code",
   "execution_count": 16,
   "metadata": {},
   "outputs": [
    {
     "name": "stdout",
     "output_type": "stream",
     "text": [
      "Fitting Logistic Regression model for Multiple Discrimination + Model no interaction\n",
      "Optimization terminated successfully.\n",
      "         Current function value: 0.382470\n",
      "         Iterations 7\n",
      "                           Logit Regression Results                           \n",
      "==============================================================================\n",
      "Dep. Variable:                      Y   No. Observations:                10000\n",
      "Model:                          Logit   Df Residuals:                     9994\n",
      "Method:                           MLE   Df Model:                            5\n",
      "Date:                Thu, 03 Jul 2025   Pseudo R-squ.:                  0.4189\n",
      "Time:                        17:50:08   Log-Likelihood:                -3824.7\n",
      "converged:                       True   LL-Null:                       -6581.5\n",
      "Covariance Type:            nonrobust   LLR p-value:                     0.000\n",
      "==============================================================================\n",
      "                 coef    std err          z      P>|z|      [0.025      0.975]\n",
      "------------------------------------------------------------------------------\n",
      "const         -2.9467      0.096    -30.849      0.000      -3.134      -2.759\n",
      "Gender         0.8418      0.068     12.417      0.000       0.709       0.975\n",
      "Race           0.8371      0.069     12.166      0.000       0.702       0.972\n",
      "Education     -0.1566      0.118     -1.326      0.185      -0.388       0.075\n",
      "Income        -0.3592      0.010    -36.534      0.000      -0.378      -0.340\n",
      "Savings       -0.2599      0.007    -36.704      0.000      -0.274      -0.246\n",
      "==============================================================================\n",
      "Performance: {'Accuracy': 0.8198, 'F1 Score': 0.7513796909492274, 'ROC AUC': 0.8984767374528781, 'Confusion Matrix': [[5475, 840], [962, 2723]]}\n"
     ]
    }
   ],
   "source": [
    "logit_results, probabilities= function_logistic_fitting(multiple_discrimination_df,get_model_summary = get_model_summary, scenario='Multiple Discrimination + Model no interaction')"
   ]
  },
  {
   "cell_type": "code",
   "execution_count": 17,
   "metadata": {},
   "outputs": [
    {
     "name": "stdout",
     "output_type": "stream",
     "text": [
      "Fitting Logistic Regression model for Multiple Discrimination + Model with interaction\n",
      "Optimization terminated successfully.\n",
      "         Current function value: 0.382311\n",
      "         Iterations 7\n",
      "                           Logit Regression Results                           \n",
      "==============================================================================\n",
      "Dep. Variable:                      Y   No. Observations:                10000\n",
      "Model:                          Logit   Df Residuals:                     9993\n",
      "Method:                           MLE   Df Model:                            6\n",
      "Date:                Thu, 03 Jul 2025   Pseudo R-squ.:                  0.4191\n",
      "Time:                        17:50:08   Log-Likelihood:                -3823.1\n",
      "converged:                       True   LL-Null:                       -6581.5\n",
      "Covariance Type:            nonrobust   LLR p-value:                     0.000\n",
      "==================================================================================\n",
      "                     coef    std err          z      P>|z|      [0.025      0.975]\n",
      "----------------------------------------------------------------------------------\n",
      "const             -2.9067      0.098    -29.661      0.000      -3.099      -2.715\n",
      "Gender             0.7513      0.085      8.878      0.000       0.585       0.917\n",
      "Race               0.7497      0.084      8.883      0.000       0.584       0.915\n",
      "interaction_sr     0.2084      0.117      1.782      0.075      -0.021       0.438\n",
      "Education         -0.1570      0.118     -1.329      0.184      -0.388       0.075\n",
      "Income            -0.3588      0.010    -36.483      0.000      -0.378      -0.340\n",
      "Savings           -0.2608      0.007    -36.705      0.000      -0.275      -0.247\n",
      "==================================================================================\n",
      "Performance: {'Accuracy': 0.8207, 'F1 Score': 0.7525872774941355, 'ROC AUC': 0.8985579122311138, 'Confusion Matrix': [[5480, 835], [958, 2727]]}\n"
     ]
    }
   ],
   "source": [
    "logit_results, probabilities= function_logistic_fitting(multiple_discrimination_df_intersectional, get_model_summary = get_model_summary, scenario='Multiple Discrimination + Model with interaction')"
   ]
  },
  {
   "cell_type": "markdown",
   "metadata": {},
   "source": [
    "## Analysis with Datasets with Intersectional Discrimination on Both Gender & Race"
   ]
  },
  {
   "cell_type": "code",
   "execution_count": 18,
   "metadata": {},
   "outputs": [],
   "source": [
    "config_path = './configs/intersectional_config.yaml'\n",
    "intersectional_discrimination_df = load_datasets(config_path, interactions_enabled = False)\n",
    "intersectional_discrimination_df_intersectional = load_datasets(config_path, interactions_enabled = True)\n"
   ]
  },
  {
   "cell_type": "markdown",
   "metadata": {},
   "source": [
    "### Discrimination in Treatment (Z)"
   ]
  },
  {
   "cell_type": "code",
   "execution_count": 19,
   "metadata": {},
   "outputs": [
    {
     "name": "stdout",
     "output_type": "stream",
     "text": [
      "Fitting OLS model for target for Intersectional Discrimination + Model no interaction: LoanAmount\n",
      "                            OLS Regression Results                            \n",
      "==============================================================================\n",
      "Dep. Variable:             LoanAmount   R-squared:                       0.289\n",
      "Model:                            OLS   Adj. R-squared:                  0.288\n",
      "Method:                 Least Squares   F-statistic:                     810.5\n",
      "Date:                Thu, 03 Jul 2025   Prob (F-statistic):               0.00\n",
      "Time:                        17:50:08   Log-Likelihood:                -37555.\n",
      "No. Observations:               10000   AIC:                         7.512e+04\n",
      "Df Residuals:                    9994   BIC:                         7.517e+04\n",
      "Df Model:                           5                                         \n",
      "Covariance Type:            nonrobust                                         \n",
      "==============================================================================\n",
      "                 coef    std err          t      P>|t|      [0.025      0.975]\n",
      "------------------------------------------------------------------------------\n",
      "const          0.7922      0.309      2.568      0.010       0.187       1.397\n",
      "Gender        12.1560      0.281     43.228      0.000      11.605      12.707\n",
      "Race          12.6713      0.281     45.123      0.000      12.121      13.222\n",
      "Education      1.7266      0.419      4.126      0.000       0.906       2.547\n",
      "Income        -0.7409      0.029    -25.962      0.000      -0.797      -0.685\n",
      "Savings       -0.4843      0.018    -26.446      0.000      -0.520      -0.448\n",
      "==============================================================================\n",
      "Omnibus:                        3.440   Durbin-Watson:                   1.961\n",
      "Prob(Omnibus):                  0.179   Jarque-Bera (JB):                3.450\n",
      "Skew:                          -0.045   Prob(JB):                        0.178\n",
      "Kurtosis:                       2.991   Cond. No.                         48.4\n",
      "==============================================================================\n",
      "\n",
      "Notes:\n",
      "[1] Standard Errors assume that the covariance matrix of the errors is correctly specified.\n",
      "Fitting OLS model for target for Intersectional Discrimination + Model no interaction: Duration\n",
      "                            OLS Regression Results                            \n",
      "==============================================================================\n",
      "Dep. Variable:               Duration   R-squared:                       0.467\n",
      "Model:                            OLS   Adj. R-squared:                  0.467\n",
      "Method:                 Least Squares   F-statistic:                     1754.\n",
      "Date:                Thu, 03 Jul 2025   Prob (F-statistic):               0.00\n",
      "Time:                        17:50:08   Log-Likelihood:                -40196.\n",
      "No. Observations:               10000   AIC:                         8.040e+04\n",
      "Df Residuals:                    9994   BIC:                         8.045e+04\n",
      "Df Model:                           5                                         \n",
      "Covariance Type:            nonrobust                                         \n",
      "==============================================================================\n",
      "                 coef    std err          t      P>|t|      [0.025      0.975]\n",
      "------------------------------------------------------------------------------\n",
      "const          0.1969      0.402      0.490      0.624      -0.591       0.984\n",
      "Gender         2.0926      0.366      5.715      0.000       1.375       2.810\n",
      "Race           1.9035      0.366      5.206      0.000       1.187       2.620\n",
      "Education      0.0296      0.545      0.054      0.957      -1.039       1.098\n",
      "Income        -1.5766      0.037    -42.429      0.000      -1.649      -1.504\n",
      "Savings       -0.5722      0.024    -23.994      0.000      -0.619      -0.525\n",
      "==============================================================================\n",
      "Omnibus:                        2.934   Durbin-Watson:                   1.998\n",
      "Prob(Omnibus):                  0.231   Jarque-Bera (JB):                2.887\n",
      "Skew:                          -0.023   Prob(JB):                        0.236\n",
      "Kurtosis:                       2.931   Cond. No.                         48.4\n",
      "==============================================================================\n",
      "\n",
      "Notes:\n",
      "[1] Standard Errors assume that the covariance matrix of the errors is correctly specified.\n",
      "The summary results are: {'LoanAmount': {'MSE': 107.0367793276052, 'R2': 0.28851830628099295}, 'Duration': {'MSE': 181.49934881811905, 'R2': 0.46738195015145667}}\n"
     ]
    }
   ],
   "source": [
    "models_intersectional, performance_intersectional = function_ols_fitting(intersectional_discrimination_df, get_model_summary = get_model_summary, scenario='Intersectional Discrimination + Model no interaction')\n"
   ]
  },
  {
   "cell_type": "code",
   "execution_count": 20,
   "metadata": {},
   "outputs": [
    {
     "name": "stdout",
     "output_type": "stream",
     "text": [
      "Fitting OLS model for target for Intsersectional Discrimination + Model with interaction: LoanAmount\n",
      "                            OLS Regression Results                            \n",
      "==============================================================================\n",
      "Dep. Variable:             LoanAmount   R-squared:                       0.324\n",
      "Model:                            OLS   Adj. R-squared:                  0.324\n",
      "Method:                 Least Squares   F-statistic:                     799.1\n",
      "Date:                Thu, 03 Jul 2025   Prob (F-statistic):               0.00\n",
      "Time:                        17:50:08   Log-Likelihood:                -37298.\n",
      "No. Observations:               10000   AIC:                         7.461e+04\n",
      "Df Residuals:                    9993   BIC:                         7.466e+04\n",
      "Df Model:                           6                                         \n",
      "Covariance Type:            nonrobust                                         \n",
      "==================================================================================\n",
      "                     coef    std err          t      P>|t|      [0.025      0.975]\n",
      "----------------------------------------------------------------------------------\n",
      "const              1.2900      0.302      4.278      0.000       0.699       1.881\n",
      "Gender             8.6304      0.314     27.476      0.000       8.015       9.246\n",
      "Race               9.2982      0.311     29.938      0.000       8.689       9.907\n",
      "interaction_sr    10.1745      0.443     22.977      0.000       9.307      11.042\n",
      "Education         -0.0511      0.415     -0.123      0.902      -0.865       0.763\n",
      "Income            -0.8042      0.028    -28.773      0.000      -0.859      -0.749\n",
      "Savings           -0.5869      0.018    -31.899      0.000      -0.623      -0.551\n",
      "==============================================================================\n",
      "Omnibus:                        4.041   Durbin-Watson:                   1.967\n",
      "Prob(Omnibus):                  0.133   Jarque-Bera (JB):                4.056\n",
      "Skew:                          -0.049   Prob(JB):                        0.132\n",
      "Kurtosis:                       2.988   Cond. No.                         51.3\n",
      "==============================================================================\n",
      "\n",
      "Notes:\n",
      "[1] Standard Errors assume that the covariance matrix of the errors is correctly specified.\n",
      "Fitting OLS model for target for Intsersectional Discrimination + Model with interaction: Duration\n",
      "                            OLS Regression Results                            \n",
      "==============================================================================\n",
      "Dep. Variable:               Duration   R-squared:                       0.468\n",
      "Model:                            OLS   Adj. R-squared:                  0.467\n",
      "Method:                 Least Squares   F-statistic:                     1463.\n",
      "Date:                Thu, 03 Jul 2025   Prob (F-statistic):               0.00\n",
      "Time:                        17:50:08   Log-Likelihood:                -40193.\n",
      "No. Observations:               10000   AIC:                         8.040e+04\n",
      "Df Residuals:                    9993   BIC:                         8.045e+04\n",
      "Df Model:                           6                                         \n",
      "Covariance Type:            nonrobust                                         \n",
      "==================================================================================\n",
      "                     coef    std err          t      P>|t|      [0.025      0.975]\n",
      "----------------------------------------------------------------------------------\n",
      "const              0.2616      0.403      0.649      0.516      -0.528       1.051\n",
      "Gender             1.6344      0.420      3.895      0.000       0.812       2.457\n",
      "Race               1.4651      0.415      3.531      0.000       0.652       2.278\n",
      "interaction_sr     1.3225      0.592      2.236      0.025       0.163       2.482\n",
      "Education         -0.2015      0.555     -0.363      0.716      -1.289       0.886\n",
      "Income            -1.5848      0.037    -42.451      0.000      -1.658      -1.512\n",
      "Savings           -0.5855      0.025    -23.824      0.000      -0.634      -0.537\n",
      "==============================================================================\n",
      "Omnibus:                        2.771   Durbin-Watson:                   1.999\n",
      "Prob(Omnibus):                  0.250   Jarque-Bera (JB):                2.729\n",
      "Skew:                          -0.022   Prob(JB):                        0.255\n",
      "Kurtosis:                       2.932   Cond. No.                         51.3\n",
      "==============================================================================\n",
      "\n",
      "Notes:\n",
      "[1] Standard Errors assume that the covariance matrix of the errors is correctly specified.\n",
      "The summary results are: {'LoanAmount': {'MSE': 101.66552909065138, 'R2': 0.3242214191734315}, 'Duration': {'MSE': 181.40860381998644, 'R2': 0.46764824545363626}}\n"
     ]
    }
   ],
   "source": [
    "models_intersectional, performance_intersectional = function_ols_fitting(intersectional_discrimination_df_intersectional, get_model_summary = get_model_summary, scenario='Intsersectional Discrimination + Model with interaction')\n"
   ]
  },
  {
   "cell_type": "markdown",
   "metadata": {},
   "source": [
    "### Discrimination in Outcome (Y)"
   ]
  },
  {
   "cell_type": "code",
   "execution_count": 21,
   "metadata": {},
   "outputs": [
    {
     "name": "stdout",
     "output_type": "stream",
     "text": [
      "Fitting Logistic Regression model for Intersectional Discrimination + Model no interaction\n",
      "Optimization terminated successfully.\n",
      "         Current function value: 0.362898\n",
      "         Iterations 8\n",
      "                           Logit Regression Results                           \n",
      "==============================================================================\n",
      "Dep. Variable:                      Y   No. Observations:                10000\n",
      "Model:                          Logit   Df Residuals:                     9994\n",
      "Method:                           MLE   Df Model:                            5\n",
      "Date:                Thu, 03 Jul 2025   Pseudo R-squ.:                  0.4418\n",
      "Time:                        17:50:08   Log-Likelihood:                -3629.0\n",
      "converged:                       True   LL-Null:                       -6500.7\n",
      "Covariance Type:            nonrobust   LLR p-value:                     0.000\n",
      "==============================================================================\n",
      "                 coef    std err          z      P>|z|      [0.025      0.975]\n",
      "------------------------------------------------------------------------------\n",
      "const         -2.7976      0.098    -28.462      0.000      -2.990      -2.605\n",
      "Gender         1.0986      0.078     14.024      0.000       0.945       1.252\n",
      "Race           1.0878      0.078     13.969      0.000       0.935       1.240\n",
      "Education      0.1322      0.120      1.104      0.269      -0.102       0.367\n",
      "Income        -0.3335      0.010    -34.294      0.000      -0.353      -0.314\n",
      "Savings       -0.2579      0.007    -35.833      0.000      -0.272      -0.244\n",
      "==============================================================================\n",
      "Performance: {'Accuracy': 0.829, 'F1 Score': 0.7552947910704064, 'ROC AUC': 0.9070664000075883, 'Confusion Matrix': [[5651, 806], [904, 2639]]}\n"
     ]
    }
   ],
   "source": [
    "logit_results, probabilities= function_logistic_fitting(intersectional_discrimination_df, get_model_summary = get_model_summary,scenario='Intersectional Discrimination + Model no interaction')"
   ]
  },
  {
   "cell_type": "code",
   "execution_count": 22,
   "metadata": {},
   "outputs": [
    {
     "name": "stdout",
     "output_type": "stream",
     "text": [
      "Fitting Logistic Regression model for Intersectional Discrimination + Model with interaction\n",
      "Optimization terminated successfully.\n",
      "         Current function value: 0.358024\n",
      "         Iterations 8\n",
      "                           Logit Regression Results                           \n",
      "==============================================================================\n",
      "Dep. Variable:                      Y   No. Observations:                10000\n",
      "Model:                          Logit   Df Residuals:                     9993\n",
      "Method:                           MLE   Df Model:                            6\n",
      "Date:                Thu, 03 Jul 2025   Pseudo R-squ.:                  0.4493\n",
      "Time:                        17:50:09   Log-Likelihood:                -3580.2\n",
      "converged:                       True   LL-Null:                       -6500.7\n",
      "Covariance Type:            nonrobust   LLR p-value:                     0.000\n",
      "==================================================================================\n",
      "                     coef    std err          z      P>|z|      [0.025      0.975]\n",
      "----------------------------------------------------------------------------------\n",
      "const             -2.8374      0.100    -28.439      0.000      -3.033      -2.642\n",
      "Gender             0.7826      0.085      9.215      0.000       0.616       0.949\n",
      "Race               0.7909      0.084      9.442      0.000       0.627       0.955\n",
      "interaction_sr     1.3713      0.139      9.840      0.000       1.098       1.644\n",
      "Education         -0.0643      0.122     -0.526      0.599      -0.304       0.175\n",
      "Income            -0.3483      0.010    -34.718      0.000      -0.368      -0.329\n",
      "Savings           -0.2704      0.007    -36.422      0.000      -0.285      -0.256\n",
      "==================================================================================\n",
      "Performance: {'Accuracy': 0.8301, 'F1 Score': 0.7563459056360247, 'ROC AUC': 0.9094745232918205, 'Confusion Matrix': [[5664, 793], [906, 2637]]}\n"
     ]
    }
   ],
   "source": [
    "logit_results, probabilities= function_logistic_fitting(intersectional_discrimination_df_intersectional,get_model_summary = get_model_summary, scenario='Intersectional Discrimination + Model with interaction')"
   ]
  },
  {
   "cell_type": "markdown",
   "metadata": {},
   "source": [
    "### Analysis with Datasets with Only Intersectional Discrimination "
   ]
  },
  {
   "cell_type": "code",
   "execution_count": 23,
   "metadata": {},
   "outputs": [],
   "source": [
    "config_path = './configs/intersectional_config.yaml'\n",
    "data_only_intersectional_discr_multiple = load_datasets(config_path, interactions_enabled = False)\n",
    "data_only_intersectional = load_datasets(config_path, interactions_enabled = True)"
   ]
  },
  {
   "cell_type": "markdown",
   "metadata": {},
   "source": [
    "### Discrimination in Treatment (Z)"
   ]
  },
  {
   "cell_type": "code",
   "execution_count": 24,
   "metadata": {},
   "outputs": [
    {
     "name": "stdout",
     "output_type": "stream",
     "text": [
      "Fitting OLS model for target for Only Intersectional Discrimination + Model no interaction: LoanAmount\n",
      "                            OLS Regression Results                            \n",
      "==============================================================================\n",
      "Dep. Variable:             LoanAmount   R-squared:                       0.289\n",
      "Model:                            OLS   Adj. R-squared:                  0.288\n",
      "Method:                 Least Squares   F-statistic:                     810.5\n",
      "Date:                Thu, 03 Jul 2025   Prob (F-statistic):               0.00\n",
      "Time:                        17:50:09   Log-Likelihood:                -37555.\n",
      "No. Observations:               10000   AIC:                         7.512e+04\n",
      "Df Residuals:                    9994   BIC:                         7.517e+04\n",
      "Df Model:                           5                                         \n",
      "Covariance Type:            nonrobust                                         \n",
      "==============================================================================\n",
      "                 coef    std err          t      P>|t|      [0.025      0.975]\n",
      "------------------------------------------------------------------------------\n",
      "const          0.7922      0.309      2.568      0.010       0.187       1.397\n",
      "Gender        12.1560      0.281     43.228      0.000      11.605      12.707\n",
      "Race          12.6713      0.281     45.123      0.000      12.121      13.222\n",
      "Education      1.7266      0.419      4.126      0.000       0.906       2.547\n",
      "Income        -0.7409      0.029    -25.962      0.000      -0.797      -0.685\n",
      "Savings       -0.4843      0.018    -26.446      0.000      -0.520      -0.448\n",
      "==============================================================================\n",
      "Omnibus:                        3.440   Durbin-Watson:                   1.961\n",
      "Prob(Omnibus):                  0.179   Jarque-Bera (JB):                3.450\n",
      "Skew:                          -0.045   Prob(JB):                        0.178\n",
      "Kurtosis:                       2.991   Cond. No.                         48.4\n",
      "==============================================================================\n",
      "\n",
      "Notes:\n",
      "[1] Standard Errors assume that the covariance matrix of the errors is correctly specified.\n",
      "Fitting OLS model for target for Only Intersectional Discrimination + Model no interaction: Duration\n",
      "                            OLS Regression Results                            \n",
      "==============================================================================\n",
      "Dep. Variable:               Duration   R-squared:                       0.467\n",
      "Model:                            OLS   Adj. R-squared:                  0.467\n",
      "Method:                 Least Squares   F-statistic:                     1754.\n",
      "Date:                Thu, 03 Jul 2025   Prob (F-statistic):               0.00\n",
      "Time:                        17:50:09   Log-Likelihood:                -40196.\n",
      "No. Observations:               10000   AIC:                         8.040e+04\n",
      "Df Residuals:                    9994   BIC:                         8.045e+04\n",
      "Df Model:                           5                                         \n",
      "Covariance Type:            nonrobust                                         \n",
      "==============================================================================\n",
      "                 coef    std err          t      P>|t|      [0.025      0.975]\n",
      "------------------------------------------------------------------------------\n",
      "const          0.1969      0.402      0.490      0.624      -0.591       0.984\n",
      "Gender         2.0926      0.366      5.715      0.000       1.375       2.810\n",
      "Race           1.9035      0.366      5.206      0.000       1.187       2.620\n",
      "Education      0.0296      0.545      0.054      0.957      -1.039       1.098\n",
      "Income        -1.5766      0.037    -42.429      0.000      -1.649      -1.504\n",
      "Savings       -0.5722      0.024    -23.994      0.000      -0.619      -0.525\n",
      "==============================================================================\n",
      "Omnibus:                        2.934   Durbin-Watson:                   1.998\n",
      "Prob(Omnibus):                  0.231   Jarque-Bera (JB):                2.887\n",
      "Skew:                          -0.023   Prob(JB):                        0.236\n",
      "Kurtosis:                       2.931   Cond. No.                         48.4\n",
      "==============================================================================\n",
      "\n",
      "Notes:\n",
      "[1] Standard Errors assume that the covariance matrix of the errors is correctly specified.\n",
      "The summary results are: {'LoanAmount': {'MSE': 107.0367793276052, 'R2': 0.28851830628099295}, 'Duration': {'MSE': 181.49934881811905, 'R2': 0.46738195015145667}}\n"
     ]
    }
   ],
   "source": [
    "models_only_intersectional, performance_only_intersectional = function_ols_fitting(data_only_intersectional_discr_multiple, get_model_summary = get_model_summary, scenario='Only Intersectional Discrimination + Model no interaction')\n"
   ]
  },
  {
   "cell_type": "code",
   "execution_count": 25,
   "metadata": {},
   "outputs": [
    {
     "name": "stdout",
     "output_type": "stream",
     "text": [
      "Fitting OLS model for target for Only Intsersectional Discrimination + Model with interaction: LoanAmount\n",
      "                            OLS Regression Results                            \n",
      "==============================================================================\n",
      "Dep. Variable:             LoanAmount   R-squared:                       0.324\n",
      "Model:                            OLS   Adj. R-squared:                  0.324\n",
      "Method:                 Least Squares   F-statistic:                     799.1\n",
      "Date:                Thu, 03 Jul 2025   Prob (F-statistic):               0.00\n",
      "Time:                        17:50:09   Log-Likelihood:                -37298.\n",
      "No. Observations:               10000   AIC:                         7.461e+04\n",
      "Df Residuals:                    9993   BIC:                         7.466e+04\n",
      "Df Model:                           6                                         \n",
      "Covariance Type:            nonrobust                                         \n",
      "==================================================================================\n",
      "                     coef    std err          t      P>|t|      [0.025      0.975]\n",
      "----------------------------------------------------------------------------------\n",
      "const              1.2900      0.302      4.278      0.000       0.699       1.881\n",
      "Gender             8.6304      0.314     27.476      0.000       8.015       9.246\n",
      "Race               9.2982      0.311     29.938      0.000       8.689       9.907\n",
      "interaction_sr    10.1745      0.443     22.977      0.000       9.307      11.042\n",
      "Education         -0.0511      0.415     -0.123      0.902      -0.865       0.763\n",
      "Income            -0.8042      0.028    -28.773      0.000      -0.859      -0.749\n",
      "Savings           -0.5869      0.018    -31.899      0.000      -0.623      -0.551\n",
      "==============================================================================\n",
      "Omnibus:                        4.041   Durbin-Watson:                   1.967\n",
      "Prob(Omnibus):                  0.133   Jarque-Bera (JB):                4.056\n",
      "Skew:                          -0.049   Prob(JB):                        0.132\n",
      "Kurtosis:                       2.988   Cond. No.                         51.3\n",
      "==============================================================================\n",
      "\n",
      "Notes:\n",
      "[1] Standard Errors assume that the covariance matrix of the errors is correctly specified.\n",
      "Fitting OLS model for target for Only Intsersectional Discrimination + Model with interaction: Duration\n",
      "                            OLS Regression Results                            \n",
      "==============================================================================\n",
      "Dep. Variable:               Duration   R-squared:                       0.468\n",
      "Model:                            OLS   Adj. R-squared:                  0.467\n",
      "Method:                 Least Squares   F-statistic:                     1463.\n",
      "Date:                Thu, 03 Jul 2025   Prob (F-statistic):               0.00\n",
      "Time:                        17:50:09   Log-Likelihood:                -40193.\n",
      "No. Observations:               10000   AIC:                         8.040e+04\n",
      "Df Residuals:                    9993   BIC:                         8.045e+04\n",
      "Df Model:                           6                                         \n",
      "Covariance Type:            nonrobust                                         \n",
      "==================================================================================\n",
      "                     coef    std err          t      P>|t|      [0.025      0.975]\n",
      "----------------------------------------------------------------------------------\n",
      "const              0.2616      0.403      0.649      0.516      -0.528       1.051\n",
      "Gender             1.6344      0.420      3.895      0.000       0.812       2.457\n",
      "Race               1.4651      0.415      3.531      0.000       0.652       2.278\n",
      "interaction_sr     1.3225      0.592      2.236      0.025       0.163       2.482\n",
      "Education         -0.2015      0.555     -0.363      0.716      -1.289       0.886\n",
      "Income            -1.5848      0.037    -42.451      0.000      -1.658      -1.512\n",
      "Savings           -0.5855      0.025    -23.824      0.000      -0.634      -0.537\n",
      "==============================================================================\n",
      "Omnibus:                        2.771   Durbin-Watson:                   1.999\n",
      "Prob(Omnibus):                  0.250   Jarque-Bera (JB):                2.729\n",
      "Skew:                          -0.022   Prob(JB):                        0.255\n",
      "Kurtosis:                       2.932   Cond. No.                         51.3\n",
      "==============================================================================\n",
      "\n",
      "Notes:\n",
      "[1] Standard Errors assume that the covariance matrix of the errors is correctly specified.\n",
      "The summary results are: {'LoanAmount': {'MSE': 101.66552909065138, 'R2': 0.3242214191734315}, 'Duration': {'MSE': 181.40860381998644, 'R2': 0.46764824545363626}}\n"
     ]
    }
   ],
   "source": [
    "models_only_intersectional, performance_only_ntersectional = function_ols_fitting(data_only_intersectional, get_model_summary = get_model_summary, scenario='Only Intsersectional Discrimination + Model with interaction')\n"
   ]
  },
  {
   "cell_type": "markdown",
   "metadata": {},
   "source": [
    "### Discrimination in Outcome (Y)"
   ]
  },
  {
   "cell_type": "code",
   "execution_count": 26,
   "metadata": {},
   "outputs": [
    {
     "name": "stdout",
     "output_type": "stream",
     "text": [
      "Fitting Logistic Regression model for Only Intersectional Discrimination + Model no interaction\n",
      "Optimization terminated successfully.\n",
      "         Current function value: 0.362898\n",
      "         Iterations 8\n",
      "                           Logit Regression Results                           \n",
      "==============================================================================\n",
      "Dep. Variable:                      Y   No. Observations:                10000\n",
      "Model:                          Logit   Df Residuals:                     9994\n",
      "Method:                           MLE   Df Model:                            5\n",
      "Date:                Thu, 03 Jul 2025   Pseudo R-squ.:                  0.4418\n",
      "Time:                        17:50:09   Log-Likelihood:                -3629.0\n",
      "converged:                       True   LL-Null:                       -6500.7\n",
      "Covariance Type:            nonrobust   LLR p-value:                     0.000\n",
      "==============================================================================\n",
      "                 coef    std err          z      P>|z|      [0.025      0.975]\n",
      "------------------------------------------------------------------------------\n",
      "const         -2.7976      0.098    -28.462      0.000      -2.990      -2.605\n",
      "Gender         1.0986      0.078     14.024      0.000       0.945       1.252\n",
      "Race           1.0878      0.078     13.969      0.000       0.935       1.240\n",
      "Education      0.1322      0.120      1.104      0.269      -0.102       0.367\n",
      "Income        -0.3335      0.010    -34.294      0.000      -0.353      -0.314\n",
      "Savings       -0.2579      0.007    -35.833      0.000      -0.272      -0.244\n",
      "==============================================================================\n",
      "Performance: {'Accuracy': 0.829, 'F1 Score': 0.7552947910704064, 'ROC AUC': 0.9070664000075883, 'Confusion Matrix': [[5651, 806], [904, 2639]]}\n"
     ]
    }
   ],
   "source": [
    "logit_results, probabilities= function_logistic_fitting(data_only_intersectional_discr_multiple,get_model_summary = get_model_summary, scenario='Only Intersectional Discrimination + Model no interaction')"
   ]
  },
  {
   "cell_type": "code",
   "execution_count": 27,
   "metadata": {},
   "outputs": [
    {
     "name": "stdout",
     "output_type": "stream",
     "text": [
      "Fitting Logistic Regression model for Only Intersectional Discrimination + Model with interaction\n",
      "Optimization terminated successfully.\n",
      "         Current function value: 0.358024\n",
      "         Iterations 8\n",
      "                           Logit Regression Results                           \n",
      "==============================================================================\n",
      "Dep. Variable:                      Y   No. Observations:                10000\n",
      "Model:                          Logit   Df Residuals:                     9993\n",
      "Method:                           MLE   Df Model:                            6\n",
      "Date:                Thu, 03 Jul 2025   Pseudo R-squ.:                  0.4493\n",
      "Time:                        17:50:10   Log-Likelihood:                -3580.2\n",
      "converged:                       True   LL-Null:                       -6500.7\n",
      "Covariance Type:            nonrobust   LLR p-value:                     0.000\n",
      "==================================================================================\n",
      "                     coef    std err          z      P>|z|      [0.025      0.975]\n",
      "----------------------------------------------------------------------------------\n",
      "const             -2.8374      0.100    -28.439      0.000      -3.033      -2.642\n",
      "Gender             0.7826      0.085      9.215      0.000       0.616       0.949\n",
      "Race               0.7909      0.084      9.442      0.000       0.627       0.955\n",
      "interaction_sr     1.3713      0.139      9.840      0.000       1.098       1.644\n",
      "Education         -0.0643      0.122     -0.526      0.599      -0.304       0.175\n",
      "Income            -0.3483      0.010    -34.718      0.000      -0.368      -0.329\n",
      "Savings           -0.2704      0.007    -36.422      0.000      -0.285      -0.256\n",
      "==================================================================================\n",
      "Performance: {'Accuracy': 0.8301, 'F1 Score': 0.7563459056360247, 'ROC AUC': 0.9094745232918205, 'Confusion Matrix': [[5664, 793], [906, 2637]]}\n"
     ]
    }
   ],
   "source": [
    "logit_results, probabilities= function_logistic_fitting(data_only_intersectional, get_model_summary = get_model_summary,scenario='Only Intersectional Discrimination + Model with interaction')"
   ]
  },
  {
   "cell_type": "markdown",
   "metadata": {},
   "source": [
    "# RECHECK GERMAN DATASET"
   ]
  },
  {
   "cell_type": "code",
   "execution_count": 28,
   "metadata": {},
   "outputs": [
    {
     "ename": "FileNotFoundError",
     "evalue": "[Errno 2] No such file or directory: './synthetic_data/updated_german.csv'",
     "output_type": "error",
     "traceback": [
      "\u001b[0;31m---------------------------------------------------------------------------\u001b[0m",
      "\u001b[0;31mFileNotFoundError\u001b[0m                         Traceback (most recent call last)",
      "Cell \u001b[0;32mIn[28], line 2\u001b[0m\n\u001b[1;32m      1\u001b[0m config_german_path \u001b[38;5;241m=\u001b[39m \u001b[38;5;124m'\u001b[39m\u001b[38;5;124m./configs/german_config.yaml\u001b[39m\u001b[38;5;124m'\u001b[39m\n\u001b[0;32m----> 2\u001b[0m german_no_intersectional \u001b[38;5;241m=\u001b[39m load_datasets(config_german_path, interactions_enabled\u001b[38;5;241m=\u001b[39m\u001b[38;5;28;01mFalse\u001b[39;00m)\n\u001b[1;32m      3\u001b[0m german_intersectional \u001b[38;5;241m=\u001b[39m load_datasets(config_german_path, interactions_enabled\u001b[38;5;241m=\u001b[39m\u001b[38;5;28;01mTrue\u001b[39;00m)\n",
      "File \u001b[0;32m~/Desktop/Saarland/PhD_Research/PythonCodes/ThesisWork/MultidimensionalDiscriminationAnalysis/utlis.py:28\u001b[0m, in \u001b[0;36mload_datasets\u001b[0;34m(config_path, interactions_enabled)\u001b[0m\n\u001b[1;32m     25\u001b[0m data_loader \u001b[38;5;241m=\u001b[39m DataLoader(config, seed\u001b[38;5;241m=\u001b[39m\u001b[38;5;241m42\u001b[39m)\n\u001b[1;32m     27\u001b[0m \u001b[38;5;28;01mif\u001b[39;00m config[\u001b[38;5;124m'\u001b[39m\u001b[38;5;124mdata_name\u001b[39m\u001b[38;5;124m'\u001b[39m] \u001b[38;5;241m==\u001b[39m \u001b[38;5;124m'\u001b[39m\u001b[38;5;124mgerman\u001b[39m\u001b[38;5;124m'\u001b[39m:\n\u001b[0;32m---> 28\u001b[0m     datasets_ , _, _ \u001b[38;5;241m=\u001b[39m data_loader\u001b[38;5;241m.\u001b[39mload()\n\u001b[1;32m     29\u001b[0m \u001b[38;5;28;01melse\u001b[39;00m:\n\u001b[1;32m     30\u001b[0m     datasets_ \u001b[38;5;241m=\u001b[39m data_loader\u001b[38;5;241m.\u001b[39mload()\n",
      "File \u001b[0;32m~/Desktop/Saarland/PhD_Research/PythonCodes/ThesisWork/MultidimensionalDiscriminationAnalysis/data_loader.py:100\u001b[0m, in \u001b[0;36mDataLoader.load\u001b[0;34m(self)\u001b[0m\n\u001b[1;32m     96\u001b[0m \u001b[38;5;28;01mdef\u001b[39;00m \u001b[38;5;21mload\u001b[39m(\u001b[38;5;28mself\u001b[39m):\n\u001b[1;32m     97\u001b[0m \u001b[38;5;250m    \u001b[39m\u001b[38;5;124;03m\"\"\"\u001b[39;00m\n\u001b[1;32m     98\u001b[0m \u001b[38;5;124;03m    Main method to load, preprocess, and split the dataset.\u001b[39;00m\n\u001b[1;32m     99\u001b[0m \u001b[38;5;124;03m    \"\"\"\u001b[39;00m\n\u001b[0;32m--> 100\u001b[0m     \u001b[38;5;28mself\u001b[39m\u001b[38;5;241m.\u001b[39mload_data()\n\u001b[1;32m    101\u001b[0m     \u001b[38;5;28mself\u001b[39m\u001b[38;5;241m.\u001b[39mextract_features()\n\u001b[1;32m    103\u001b[0m     \u001b[38;5;28;01mif\u001b[39;00m \u001b[38;5;28mself\u001b[39m\u001b[38;5;241m.\u001b[39mconfig[\u001b[38;5;124m'\u001b[39m\u001b[38;5;124mdata_name\u001b[39m\u001b[38;5;124m'\u001b[39m] \u001b[38;5;241m==\u001b[39m \u001b[38;5;124m'\u001b[39m\u001b[38;5;124mgerman\u001b[39m\u001b[38;5;124m'\u001b[39m:\n",
      "File \u001b[0;32m~/Desktop/Saarland/PhD_Research/PythonCodes/ThesisWork/MultidimensionalDiscriminationAnalysis/data_loader.py:37\u001b[0m, in \u001b[0;36mDataLoader.load_data\u001b[0;34m(self)\u001b[0m\n\u001b[1;32m     33\u001b[0m \u001b[38;5;250m\u001b[39m\u001b[38;5;124;03m\"\"\"\u001b[39;00m\n\u001b[1;32m     34\u001b[0m \u001b[38;5;124;03mLoads the dataset based on the configuration provided.\u001b[39;00m\n\u001b[1;32m     35\u001b[0m \u001b[38;5;124;03m\"\"\"\u001b[39;00m\n\u001b[1;32m     36\u001b[0m \u001b[38;5;28;01mif\u001b[39;00m \u001b[38;5;28mself\u001b[39m\u001b[38;5;241m.\u001b[39mconfig[\u001b[38;5;124m'\u001b[39m\u001b[38;5;124mdata_name\u001b[39m\u001b[38;5;124m'\u001b[39m] \u001b[38;5;241m==\u001b[39m \u001b[38;5;124m'\u001b[39m\u001b[38;5;124mgerman\u001b[39m\u001b[38;5;124m'\u001b[39m:\n\u001b[0;32m---> 37\u001b[0m     \u001b[38;5;28mself\u001b[39m\u001b[38;5;241m.\u001b[39mdata \u001b[38;5;241m=\u001b[39m data_loading\u001b[38;5;241m.\u001b[39mload_german_data(\u001b[38;5;28mself\u001b[39m\u001b[38;5;241m.\u001b[39mconfig[\u001b[38;5;124m'\u001b[39m\u001b[38;5;124mdatapath\u001b[39m\u001b[38;5;124m'\u001b[39m], log_transform\u001b[38;5;241m=\u001b[39m\u001b[38;5;28;01mTrue\u001b[39;00m, model_interactions\u001b[38;5;241m=\u001b[39m\u001b[38;5;28mself\u001b[39m\u001b[38;5;241m.\u001b[39mconfig[\u001b[38;5;124m'\u001b[39m\u001b[38;5;124mmodel_interactions\u001b[39m\u001b[38;5;124m'\u001b[39m], plot_cov\u001b[38;5;241m=\u001b[39m\u001b[38;5;28mself\u001b[39m\u001b[38;5;241m.\u001b[39mconfig[\u001b[38;5;124m'\u001b[39m\u001b[38;5;124mplot_cov\u001b[39m\u001b[38;5;124m'\u001b[39m])\n\u001b[1;32m     38\u001b[0m \u001b[38;5;28;01melse\u001b[39;00m:\n\u001b[1;32m     39\u001b[0m     \u001b[38;5;28mself\u001b[39m\u001b[38;5;241m.\u001b[39mdata \u001b[38;5;241m=\u001b[39m data_loading\u001b[38;5;241m.\u001b[39mload_synthetic(\u001b[38;5;28mself\u001b[39m\u001b[38;5;241m.\u001b[39mconfig[\u001b[38;5;124m'\u001b[39m\u001b[38;5;124mdatapath\u001b[39m\u001b[38;5;124m'\u001b[39m], model_interactions\u001b[38;5;241m=\u001b[39m\u001b[38;5;28mself\u001b[39m\u001b[38;5;241m.\u001b[39mconfig[\u001b[38;5;124m'\u001b[39m\u001b[38;5;124mmodel_interactions\u001b[39m\u001b[38;5;124m'\u001b[39m], plot_cov\u001b[38;5;241m=\u001b[39m\u001b[38;5;28mself\u001b[39m\u001b[38;5;241m.\u001b[39mconfig[\u001b[38;5;124m'\u001b[39m\u001b[38;5;124mplot_cov\u001b[39m\u001b[38;5;124m'\u001b[39m])\n",
      "File \u001b[0;32m~/Desktop/Saarland/PhD_Research/PythonCodes/ThesisWork/MultidimensionalDiscriminationAnalysis/data_loading.py:28\u001b[0m, in \u001b[0;36mload_german_data\u001b[0;34m(path, log_transform, model_interactions, plot_cov)\u001b[0m\n\u001b[1;32m     20\u001b[0m \u001b[38;5;28;01mdef\u001b[39;00m \u001b[38;5;21mload_german_data\u001b[39m(path, log_transform\u001b[38;5;241m=\u001b[39m\u001b[38;5;28;01mNone\u001b[39;00m,model_interactions \u001b[38;5;241m=\u001b[39m \u001b[38;5;28;01mNone\u001b[39;00m, plot_cov \u001b[38;5;241m=\u001b[39m \u001b[38;5;28;01mNone\u001b[39;00m):\n\u001b[1;32m     21\u001b[0m \u001b[38;5;250m    \u001b[39m\u001b[38;5;124;03m\"\"\"\u001b[39;00m\n\u001b[1;32m     22\u001b[0m \u001b[38;5;124;03m    Loads the german data.\u001b[39;00m\n\u001b[1;32m     23\u001b[0m \u001b[38;5;124;03m    Parameters:\u001b[39;00m\n\u001b[0;32m   (...)\u001b[0m\n\u001b[1;32m     26\u001b[0m \u001b[38;5;124;03m    pd.DataFrame of the german credit\u001b[39;00m\n\u001b[1;32m     27\u001b[0m \u001b[38;5;124;03m    \"\"\"\u001b[39;00m\n\u001b[0;32m---> 28\u001b[0m     df \u001b[38;5;241m=\u001b[39m pd\u001b[38;5;241m.\u001b[39mread_csv(path)\n\u001b[1;32m     29\u001b[0m     df[\u001b[38;5;124m'\u001b[39m\u001b[38;5;124mTARGET\u001b[39m\u001b[38;5;124m'\u001b[39m] \u001b[38;5;241m=\u001b[39m df[\u001b[38;5;124m'\u001b[39m\u001b[38;5;124mclass\u001b[39m\u001b[38;5;124m'\u001b[39m]\n\u001b[1;32m     30\u001b[0m     \u001b[38;5;28;01mdel\u001b[39;00m df[\u001b[38;5;124m'\u001b[39m\u001b[38;5;124mclass\u001b[39m\u001b[38;5;124m'\u001b[39m]\n",
      "File \u001b[0;32m~/miniforge3/envs/intersectionality/lib/python3.11/site-packages/pandas/io/parsers/readers.py:1026\u001b[0m, in \u001b[0;36mread_csv\u001b[0;34m(filepath_or_buffer, sep, delimiter, header, names, index_col, usecols, dtype, engine, converters, true_values, false_values, skipinitialspace, skiprows, skipfooter, nrows, na_values, keep_default_na, na_filter, verbose, skip_blank_lines, parse_dates, infer_datetime_format, keep_date_col, date_parser, date_format, dayfirst, cache_dates, iterator, chunksize, compression, thousands, decimal, lineterminator, quotechar, quoting, doublequote, escapechar, comment, encoding, encoding_errors, dialect, on_bad_lines, delim_whitespace, low_memory, memory_map, float_precision, storage_options, dtype_backend)\u001b[0m\n\u001b[1;32m   1013\u001b[0m kwds_defaults \u001b[38;5;241m=\u001b[39m _refine_defaults_read(\n\u001b[1;32m   1014\u001b[0m     dialect,\n\u001b[1;32m   1015\u001b[0m     delimiter,\n\u001b[0;32m   (...)\u001b[0m\n\u001b[1;32m   1022\u001b[0m     dtype_backend\u001b[38;5;241m=\u001b[39mdtype_backend,\n\u001b[1;32m   1023\u001b[0m )\n\u001b[1;32m   1024\u001b[0m kwds\u001b[38;5;241m.\u001b[39mupdate(kwds_defaults)\n\u001b[0;32m-> 1026\u001b[0m \u001b[38;5;28;01mreturn\u001b[39;00m _read(filepath_or_buffer, kwds)\n",
      "File \u001b[0;32m~/miniforge3/envs/intersectionality/lib/python3.11/site-packages/pandas/io/parsers/readers.py:620\u001b[0m, in \u001b[0;36m_read\u001b[0;34m(filepath_or_buffer, kwds)\u001b[0m\n\u001b[1;32m    617\u001b[0m _validate_names(kwds\u001b[38;5;241m.\u001b[39mget(\u001b[38;5;124m\"\u001b[39m\u001b[38;5;124mnames\u001b[39m\u001b[38;5;124m\"\u001b[39m, \u001b[38;5;28;01mNone\u001b[39;00m))\n\u001b[1;32m    619\u001b[0m \u001b[38;5;66;03m# Create the parser.\u001b[39;00m\n\u001b[0;32m--> 620\u001b[0m parser \u001b[38;5;241m=\u001b[39m TextFileReader(filepath_or_buffer, \u001b[38;5;241m*\u001b[39m\u001b[38;5;241m*\u001b[39mkwds)\n\u001b[1;32m    622\u001b[0m \u001b[38;5;28;01mif\u001b[39;00m chunksize \u001b[38;5;129;01mor\u001b[39;00m iterator:\n\u001b[1;32m    623\u001b[0m     \u001b[38;5;28;01mreturn\u001b[39;00m parser\n",
      "File \u001b[0;32m~/miniforge3/envs/intersectionality/lib/python3.11/site-packages/pandas/io/parsers/readers.py:1620\u001b[0m, in \u001b[0;36mTextFileReader.__init__\u001b[0;34m(self, f, engine, **kwds)\u001b[0m\n\u001b[1;32m   1617\u001b[0m     \u001b[38;5;28mself\u001b[39m\u001b[38;5;241m.\u001b[39moptions[\u001b[38;5;124m\"\u001b[39m\u001b[38;5;124mhas_index_names\u001b[39m\u001b[38;5;124m\"\u001b[39m] \u001b[38;5;241m=\u001b[39m kwds[\u001b[38;5;124m\"\u001b[39m\u001b[38;5;124mhas_index_names\u001b[39m\u001b[38;5;124m\"\u001b[39m]\n\u001b[1;32m   1619\u001b[0m \u001b[38;5;28mself\u001b[39m\u001b[38;5;241m.\u001b[39mhandles: IOHandles \u001b[38;5;241m|\u001b[39m \u001b[38;5;28;01mNone\u001b[39;00m \u001b[38;5;241m=\u001b[39m \u001b[38;5;28;01mNone\u001b[39;00m\n\u001b[0;32m-> 1620\u001b[0m \u001b[38;5;28mself\u001b[39m\u001b[38;5;241m.\u001b[39m_engine \u001b[38;5;241m=\u001b[39m \u001b[38;5;28mself\u001b[39m\u001b[38;5;241m.\u001b[39m_make_engine(f, \u001b[38;5;28mself\u001b[39m\u001b[38;5;241m.\u001b[39mengine)\n",
      "File \u001b[0;32m~/miniforge3/envs/intersectionality/lib/python3.11/site-packages/pandas/io/parsers/readers.py:1880\u001b[0m, in \u001b[0;36mTextFileReader._make_engine\u001b[0;34m(self, f, engine)\u001b[0m\n\u001b[1;32m   1878\u001b[0m     \u001b[38;5;28;01mif\u001b[39;00m \u001b[38;5;124m\"\u001b[39m\u001b[38;5;124mb\u001b[39m\u001b[38;5;124m\"\u001b[39m \u001b[38;5;129;01mnot\u001b[39;00m \u001b[38;5;129;01min\u001b[39;00m mode:\n\u001b[1;32m   1879\u001b[0m         mode \u001b[38;5;241m+\u001b[39m\u001b[38;5;241m=\u001b[39m \u001b[38;5;124m\"\u001b[39m\u001b[38;5;124mb\u001b[39m\u001b[38;5;124m\"\u001b[39m\n\u001b[0;32m-> 1880\u001b[0m \u001b[38;5;28mself\u001b[39m\u001b[38;5;241m.\u001b[39mhandles \u001b[38;5;241m=\u001b[39m get_handle(\n\u001b[1;32m   1881\u001b[0m     f,\n\u001b[1;32m   1882\u001b[0m     mode,\n\u001b[1;32m   1883\u001b[0m     encoding\u001b[38;5;241m=\u001b[39m\u001b[38;5;28mself\u001b[39m\u001b[38;5;241m.\u001b[39moptions\u001b[38;5;241m.\u001b[39mget(\u001b[38;5;124m\"\u001b[39m\u001b[38;5;124mencoding\u001b[39m\u001b[38;5;124m\"\u001b[39m, \u001b[38;5;28;01mNone\u001b[39;00m),\n\u001b[1;32m   1884\u001b[0m     compression\u001b[38;5;241m=\u001b[39m\u001b[38;5;28mself\u001b[39m\u001b[38;5;241m.\u001b[39moptions\u001b[38;5;241m.\u001b[39mget(\u001b[38;5;124m\"\u001b[39m\u001b[38;5;124mcompression\u001b[39m\u001b[38;5;124m\"\u001b[39m, \u001b[38;5;28;01mNone\u001b[39;00m),\n\u001b[1;32m   1885\u001b[0m     memory_map\u001b[38;5;241m=\u001b[39m\u001b[38;5;28mself\u001b[39m\u001b[38;5;241m.\u001b[39moptions\u001b[38;5;241m.\u001b[39mget(\u001b[38;5;124m\"\u001b[39m\u001b[38;5;124mmemory_map\u001b[39m\u001b[38;5;124m\"\u001b[39m, \u001b[38;5;28;01mFalse\u001b[39;00m),\n\u001b[1;32m   1886\u001b[0m     is_text\u001b[38;5;241m=\u001b[39mis_text,\n\u001b[1;32m   1887\u001b[0m     errors\u001b[38;5;241m=\u001b[39m\u001b[38;5;28mself\u001b[39m\u001b[38;5;241m.\u001b[39moptions\u001b[38;5;241m.\u001b[39mget(\u001b[38;5;124m\"\u001b[39m\u001b[38;5;124mencoding_errors\u001b[39m\u001b[38;5;124m\"\u001b[39m, \u001b[38;5;124m\"\u001b[39m\u001b[38;5;124mstrict\u001b[39m\u001b[38;5;124m\"\u001b[39m),\n\u001b[1;32m   1888\u001b[0m     storage_options\u001b[38;5;241m=\u001b[39m\u001b[38;5;28mself\u001b[39m\u001b[38;5;241m.\u001b[39moptions\u001b[38;5;241m.\u001b[39mget(\u001b[38;5;124m\"\u001b[39m\u001b[38;5;124mstorage_options\u001b[39m\u001b[38;5;124m\"\u001b[39m, \u001b[38;5;28;01mNone\u001b[39;00m),\n\u001b[1;32m   1889\u001b[0m )\n\u001b[1;32m   1890\u001b[0m \u001b[38;5;28;01massert\u001b[39;00m \u001b[38;5;28mself\u001b[39m\u001b[38;5;241m.\u001b[39mhandles \u001b[38;5;129;01mis\u001b[39;00m \u001b[38;5;129;01mnot\u001b[39;00m \u001b[38;5;28;01mNone\u001b[39;00m\n\u001b[1;32m   1891\u001b[0m f \u001b[38;5;241m=\u001b[39m \u001b[38;5;28mself\u001b[39m\u001b[38;5;241m.\u001b[39mhandles\u001b[38;5;241m.\u001b[39mhandle\n",
      "File \u001b[0;32m~/miniforge3/envs/intersectionality/lib/python3.11/site-packages/pandas/io/common.py:873\u001b[0m, in \u001b[0;36mget_handle\u001b[0;34m(path_or_buf, mode, encoding, compression, memory_map, is_text, errors, storage_options)\u001b[0m\n\u001b[1;32m    868\u001b[0m \u001b[38;5;28;01melif\u001b[39;00m \u001b[38;5;28misinstance\u001b[39m(handle, \u001b[38;5;28mstr\u001b[39m):\n\u001b[1;32m    869\u001b[0m     \u001b[38;5;66;03m# Check whether the filename is to be opened in binary mode.\u001b[39;00m\n\u001b[1;32m    870\u001b[0m     \u001b[38;5;66;03m# Binary mode does not support 'encoding' and 'newline'.\u001b[39;00m\n\u001b[1;32m    871\u001b[0m     \u001b[38;5;28;01mif\u001b[39;00m ioargs\u001b[38;5;241m.\u001b[39mencoding \u001b[38;5;129;01mand\u001b[39;00m \u001b[38;5;124m\"\u001b[39m\u001b[38;5;124mb\u001b[39m\u001b[38;5;124m\"\u001b[39m \u001b[38;5;129;01mnot\u001b[39;00m \u001b[38;5;129;01min\u001b[39;00m ioargs\u001b[38;5;241m.\u001b[39mmode:\n\u001b[1;32m    872\u001b[0m         \u001b[38;5;66;03m# Encoding\u001b[39;00m\n\u001b[0;32m--> 873\u001b[0m         handle \u001b[38;5;241m=\u001b[39m \u001b[38;5;28mopen\u001b[39m(\n\u001b[1;32m    874\u001b[0m             handle,\n\u001b[1;32m    875\u001b[0m             ioargs\u001b[38;5;241m.\u001b[39mmode,\n\u001b[1;32m    876\u001b[0m             encoding\u001b[38;5;241m=\u001b[39mioargs\u001b[38;5;241m.\u001b[39mencoding,\n\u001b[1;32m    877\u001b[0m             errors\u001b[38;5;241m=\u001b[39merrors,\n\u001b[1;32m    878\u001b[0m             newline\u001b[38;5;241m=\u001b[39m\u001b[38;5;124m\"\u001b[39m\u001b[38;5;124m\"\u001b[39m,\n\u001b[1;32m    879\u001b[0m         )\n\u001b[1;32m    880\u001b[0m     \u001b[38;5;28;01melse\u001b[39;00m:\n\u001b[1;32m    881\u001b[0m         \u001b[38;5;66;03m# Binary mode\u001b[39;00m\n\u001b[1;32m    882\u001b[0m         handle \u001b[38;5;241m=\u001b[39m \u001b[38;5;28mopen\u001b[39m(handle, ioargs\u001b[38;5;241m.\u001b[39mmode)\n",
      "\u001b[0;31mFileNotFoundError\u001b[0m: [Errno 2] No such file or directory: './synthetic_data/updated_german.csv'"
     ]
    }
   ],
   "source": [
    "config_german_path = './configs/german_config.yaml'\n",
    "german_no_intersectional = load_datasets(config_german_path, interactions_enabled=False)\n",
    "german_intersectional = load_datasets(config_german_path, interactions_enabled=True)"
   ]
  },
  {
   "cell_type": "markdown",
   "metadata": {},
   "source": [
    "### Discrimination in Treatment (Z)"
   ]
  },
  {
   "cell_type": "code",
   "execution_count": null,
   "metadata": {},
   "outputs": [],
   "source": [
    "models_intersectional, performance_intersectional = function_ols_fitting(german_no_intersectional, get_model_summary = get_model_summary, scenario='German data Model no interaction')\n"
   ]
  },
  {
   "cell_type": "code",
   "execution_count": null,
   "metadata": {},
   "outputs": [],
   "source": [
    "models_intersectional, performance_intersectional = function_ols_fitting(german_intersectional, get_model_summary = get_model_summary, scenario='German data Model with interaction')\n"
   ]
  },
  {
   "cell_type": "markdown",
   "metadata": {},
   "source": [
    "### Discrimination in Outcome (Y)"
   ]
  },
  {
   "cell_type": "code",
   "execution_count": null,
   "metadata": {},
   "outputs": [],
   "source": [
    "logit_results, probabilities= function_logistic_fitting(german_no_intersectional,get_model_summary = get_model_summary, scenario=' German Data + Model no interaction')"
   ]
  },
  {
   "cell_type": "code",
   "execution_count": null,
   "metadata": {},
   "outputs": [],
   "source": [
    "logit_results, probabilities= function_logistic_fitting(german_intersectional,get_model_summary = get_model_summary, scenario=' German Data + Model with interaction')"
   ]
  }
 ],
 "metadata": {
  "kernelspec": {
   "display_name": "intersectionality",
   "language": "python",
   "name": "python3"
  },
  "language_info": {
   "codemirror_mode": {
    "name": "ipython",
    "version": 3
   },
   "file_extension": ".py",
   "mimetype": "text/x-python",
   "name": "python",
   "nbconvert_exporter": "python",
   "pygments_lexer": "ipython3",
   "version": "3.11.9"
  }
 },
 "nbformat": 4,
 "nbformat_minor": 2
}
