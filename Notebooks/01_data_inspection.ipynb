{
 "cells": [
  {
   "cell_type": "markdown",
   "metadata": {},
   "source": [
    "## Multidimensional Discrimination Synthetic Data Generation"
   ]
  },
  {
   "cell_type": "code",
   "execution_count": null,
   "metadata": {},
   "outputs": [],
   "source": [
    "\n",
    "%load_ext autoreload\n",
    "%autoreload \n",
    "import sys\n",
    "import os\n",
    "\n",
    "sys.path.append(os.path.join('..', 'src'))\n",
    "import pandas as pd\n",
    "from plots import thresholding\n",
    "from synthetic_generator import SyntheticLoanDataGenerator"
   ]
  },
  {
   "cell_type": "markdown",
   "metadata": {},
   "source": [
    "### Equations for Data Generation\n",
    "Assume that $G=1 \\implies \\text{female}$, and $R=1 \\implies \\text{black}$. Hence the protected group would be $\\{G=1, R=1\\}$ and the unprotected group would be $\\{G=0, R=0\\}$.\n",
    "$$\n",
    "\\begin{aligned}\n",
    "\\textbf{Root nodes:} \\\\\n",
    "f_G: & \\quad G = U_{G}, \\quad U_{G} \\sim \\operatorname{Bernoulli}(0.5), \\\\[1ex]\n",
    "f_R: & \\quad R = U_{R}, \\quad U_{R} \\sim \\operatorname{Bernoulli}(0.5), \\\\\n",
    "\\textbf{Covariates:} \\\\\n",
    "\\text{(Discrimination with negative effect)} \\\\\n",
    "E &= -0.5 + \\lambda_E \\Bigl(\\theta_G G + \\theta_R R + \\theta_{GR} (G \\times R)\\Bigr) \\\\\n",
    "  & \\quad + U_E, \\quad U_E \\sim \\mathcal{N}(0, 0.25), \\\\\n",
    "I &= -4 + 3E + \\lambda_I \\Bigl(\\beta_G G + \\beta_R R + \\beta_{GR} (G \\times R)\\Bigr) \\\\\n",
    "  & \\quad + U_I, \\quad U_I \\sim \\mathcal{N}(0, 4), \\\\\n",
    "S &= -4 + 1.5\\,\\mathbb{1}\\{I > 0\\}\\, I + U_S, \\quad U_S \\sim \\mathcal{N}(0, 5), \\\\\n",
    "\\textbf{Treatments:} \\\\\n",
    "L &= 1 - \\beta_I I - \\beta_S S  \\lambda_L \\Bigl(\\rho_G G + \\rho_R R + \\rho_{GR} (G \\times R)\\Bigr) \\\\\n",
    "  & \\quad + U_L, \\quad U_L \\sim \\mathcal{N}(0, 10), \\quad \\beta \\in \\{0, 0.03\\}, \\\\[1ex]\n",
    "\\text{(Discrimination with positive effect)} \\\\\n",
    "D &= -1 - \\beta_I I + L + \\lambda_D \\Bigl(\\kappa_G G + \\kappa_R R + \\kappa_{GR} (G \\times R)\\Bigr) \\\\\n",
    "  & \\quad + U_D, \\quad U_D \\sim \\mathcal{N}(0, 9), \\\\\n",
    "\\textbf{Outcome:} \\\\\n",
    "Y &= \\mathbb{1}\\Bigl\\{\n",
    "\\sigma\\Bigl(15+ \\delta (-L - D) + 0.3 (I + S + \\alpha IS) \\Bigr) \\\\\n",
    "  & \\quad \\geq 0.5 + \\gamma \\Bigl(1- \\lambda_Y\\Bigl(\\nu_G G + \\nu_R R + \\nu_{GR} (G \\times R)\\Bigr)\\Bigr)\n",
    "\\Bigr\\}, \\\\\n",
    "\n",
    "\\end{aligned}\n",
    "$$\n"
   ]
  },
  {
   "cell_type": "markdown",
   "metadata": {},
   "source": [
    "#### Preset General Values"
   ]
  },
  {
   "cell_type": "code",
   "execution_count": null,
   "metadata": {},
   "outputs": [],
   "source": [
    "sample_size = 10000\n",
    "random_seed = 999\n",
    "prob_gender = 0.5\n",
    "prob_race = 0.5\n",
    "beta_S = 0.6\n",
    "beta_I = 0.8\n",
    "beta = 0.03 # account influence of I, S in L\n",
    "gamma = 0.10 # if set to 0 then no effect from sensitive attributes, 0.15\n",
    "# delta = 0.75  # influence of L, D in Y\n",
    "delta = 0.45\n",
    "eta = 2.0\n",
    "plot_intersectional=True"
   ]
  },
  {
   "cell_type": "markdown",
   "metadata": {},
   "source": [
    "### Case One: No Discrimination\n",
    "\n",
    "In this case, none of the sensitive attributes influence the treatment nor the outcome, $\\lambda$ controls the overall effect of the discrimination across all features."
   ]
  },
  {
   "cell_type": "code",
   "execution_count": null,
   "metadata": {},
   "outputs": [],
   "source": [
    "thetas = {'G': 0.0, 'R': 0.0, 'GR': 0.0} #education\n",
    "beta_coef = {'G': 0.0,'R': 0.0,'GR': 0.0} #income\n",
    "rhos = {'G': 0.0,'R': 0.0,'GR': 0.0}#loanamount\n",
    "kappas = {'G': 0.0,'R': 0.0,'GR': 0.0}#duration\n",
    "nus = {'G': 0.0,'R': 0.0,'GR': 0.0} #outcome\n",
    "lambdas = {'E': 1.0,'I': 1.0,'L': 1.0,'D': -1.0,'Y': 1.0}\n",
    "\n",
    "generator_no_discri = SyntheticLoanDataGenerator(sample_size=sample_size,\n",
    "                                    random_seed=random_seed,prob_gender=prob_gender,\n",
    "                                    prob_race=prob_race, beta=beta, beta_I = beta_I, \n",
    "                                    beta_S =beta_S, gamma=gamma,\n",
    "                                    eta=eta,delta=delta,\n",
    "                                    measure_bias_col='Gender',thetas=thetas,\n",
    "                                    beta_coef=beta_coef,rhos=rhos,kappas=kappas,\n",
    "                                    nus=nus,lambdas=lambdas)\n",
    "\n",
    "\n",
    "# Generate the data\n",
    "result_no_discr = generator_no_discri.synthetic_data_generation()\n",
    "data_df_no_discr = result_no_discr['data_df']\n",
    "data_df_no_discr.to_csv(f'../generated_data/no_discri_lambda_{sample_size}.csv', index=False)\n",
    "\n",
    "# Measure discrimination and plot\n",
    "generator_no_discri.measure_discrimination(data_df_no_discr, data_name = 'No Bias', plot=True, plot_intersectional=plot_intersectional)\n"
   ]
  },
  {
   "cell_type": "code",
   "execution_count": null,
   "metadata": {},
   "outputs": [],
   "source": [
    "thresholding(result_no_discr, group_by=None, data_name='No Bias')"
   ]
  },
  {
   "cell_type": "markdown",
   "metadata": {},
   "source": [
    "### Case Two: Single Discrimination\n",
    "\n",
    "Here, only one of the sensitive attributes influences the treatment and outcome."
   ]
  },
  {
   "cell_type": "code",
   "execution_count": null,
   "metadata": {},
   "outputs": [],
   "source": [
    "thetas = {'G': 0.25,'R': 0.0, 'GR': 0.0} # education\n",
    "beta_coef = {'G': 4.0,'R': 0.0,'GR': 0.0} # income\n",
    "rhos = {'G': 9.5,'R': 0.0,'GR': 0.0} # amount\n",
    "kappas = {'G': 8.5,'R': 0.0,'GR': 0.0} # duration\n",
    "nus = {'G': 2.0,'R': 0.0,'GR': 0.0} # outcome\n",
    "lambdas = {'E': 1.0,'I': 1.0,'L': 1.0,'D': -1.0,'Y': 1.0}\n",
    "\n",
    "\n",
    "generator_single_discri = SyntheticLoanDataGenerator(sample_size=sample_size,\n",
    "                                    random_seed=random_seed,prob_gender=prob_gender,\n",
    "                                    prob_race=prob_race, beta=beta, beta_I = beta_I, \n",
    "                                    beta_S =beta_S, gamma=gamma,\n",
    "                                    eta=eta,delta=delta,\n",
    "                                    measure_bias_col='Gender',thetas=thetas,\n",
    "                                    beta_coef=beta_coef,rhos=rhos,kappas=kappas,\n",
    "                                    nus=nus,lambdas=lambdas)\n",
    "\n",
    "\n",
    "# Generate the data\n",
    "result_single_discr = generator_single_discri.synthetic_data_generation()\n",
    "data_df_single_discr = result_single_discr['data_df']\n",
    "data_df_single_discr.to_csv(f'synthetic_data/single_discri_tg_{sample_size}.csv',index=False)\n",
    "\n",
    "\n",
    "# Measure discrimination and plot\n",
    "generator_single_discri.measure_discrimination(data_df_single_discr,data_name = 'Single Axis Bias', plot=True, plot_intersectional=plot_intersectional)"
   ]
  },
  {
   "cell_type": "code",
   "execution_count": null,
   "metadata": {},
   "outputs": [],
   "source": [
    "thresholding(result_single_discr, group_by=None, data_name='Single Axis Bias')"
   ]
  },
  {
   "cell_type": "code",
   "execution_count": null,
   "metadata": {},
   "outputs": [],
   "source": [
    "# result_single_discr['thresholds']"
   ]
  },
  {
   "cell_type": "markdown",
   "metadata": {},
   "source": [
    "### Case Three: Multiple Discrimination\n",
    "\n",
    "Here, the sensitive attributes, i.e S and R, will need to influence the outcome and treatment, but then we should not have interaction between them."
   ]
  },
  {
   "cell_type": "code",
   "execution_count": null,
   "metadata": {},
   "outputs": [],
   "source": [
    "thetas = {'G': 0.20,'R': 0.25, 'GR': 0.0}#education\n",
    "beta_coef = {'G': 4.0,'R': 3.7,'GR': 0.0}#income\n",
    "rhos = {'G': 9.4,'R': 9.0,'GR': 0.0}#amount\n",
    "kappas = {'G': 8.0,'R': 8.3,'GR': 0.0}#duration\n",
    "nus = {'G': 0.85,'R': 0.9,'GR': 0.0} # outcome\n",
    "\n",
    "# nus = {'G': 0.05,'R': 0.1,'GR': 0.0} # outcome\n",
    "\n",
    "lambdas = {'E': 1.0,'I': 1.0,'L': 1.0,'D': -1.0,'Y': 1.0}\n",
    "\n",
    "generator_multiple_discri = SyntheticLoanDataGenerator(sample_size=sample_size,\n",
    "                                    random_seed=random_seed,prob_gender=prob_gender,\n",
    "                                    prob_race=prob_race, beta=beta, beta_I = beta_I, \n",
    "                                    beta_S =beta_S, gamma=gamma,\n",
    "                                    eta=eta,delta=delta,\n",
    "                                    measure_bias_col='Gender',thetas=thetas,\n",
    "                                    beta_coef=beta_coef,rhos=rhos,kappas=kappas,\n",
    "                                    nus=nus,lambdas=lambdas)\n",
    "\n",
    "\n",
    "# Generate the data\n",
    "result_multiple_discr = generator_multiple_discri.synthetic_data_generation()\n",
    "data_df_multiple_discr = result_multiple_discr['data_df']\n",
    "data_df_multiple_discr.to_csv(f'synthetic_data/multiple_discri_tg_{sample_size}.csv', index=False)\n",
    "\n",
    "\n",
    "# Measure discrimination and plot\n",
    "generator_multiple_discri.measure_discrimination(data_df_multiple_discr, data_name = 'Multiple Bias', plot=True, plot_intersectional=plot_intersectional)"
   ]
  },
  {
   "cell_type": "code",
   "execution_count": null,
   "metadata": {},
   "outputs": [],
   "source": [
    "thresholding(result_multiple_discr, group_by=None, data_name='Multiple Bias')"
   ]
  },
  {
   "cell_type": "markdown",
   "metadata": {},
   "source": [
    "### Case Four: Compounded Discrimination\n",
    "\n",
    "Here, there’s an interaction between the sensitive attributes in influencing the treatment and the outcome."
   ]
  },
  {
   "cell_type": "code",
   "execution_count": null,
   "metadata": {},
   "outputs": [],
   "source": [
    "thetas = {'G': 0.20,'R': 0.23, 'GR': 0.25} # education\n",
    "beta_coef = {'G': 3.9,'R': 3.5,'GR': 4.0} #income\n",
    "rhos = {'G': 9.2,'R': 9.5,'GR': 10.0} #amount\n",
    "kappas = {'G': 6.9,'R': 8.2,'GR': 8.8} #duration\n",
    "nus = {'G': 1.0,'R': 0.9,'GR': 1.18} #outcome\n",
    "lambdas = {'E': 1.0,'I': 1.0,'L': 1.0,'D': -1.0,'Y': 1.0}\n",
    "\n",
    "generator_compounded_discri = SyntheticLoanDataGenerator(sample_size=sample_size,\n",
    "                                    random_seed=random_seed,prob_gender=prob_gender,\n",
    "                                    prob_race=prob_race, beta=beta, beta_I = beta_I, \n",
    "                                    beta_S =beta_S, gamma=gamma,\n",
    "                                    eta=eta,delta=delta,\n",
    "                                    measure_bias_col='Gender',thetas=thetas,\n",
    "                                    beta_coef=beta_coef,rhos=rhos,kappas=kappas,\n",
    "                                    nus=nus,lambdas=lambdas)\n",
    "\n",
    "\n",
    "# Generate the data\n",
    "result_intersectional_discr = generator_compounded_discri.synthetic_data_generation()\n",
    "data_df_compunded_discr = result_intersectional_discr['data_df']\n",
    "data_df_compunded_discr.to_csv(f'synthetic_data/compounded_discri_tg{sample_size}.csv', index=False)\n",
    "\n",
    "\n",
    "# Measure discrimination and plot\n",
    "generator_compounded_discri.measure_discrimination(data_df_compunded_discr, data_name = 'Compounded Bias', plot=True, plot_intersectional=plot_intersectional)"
   ]
  },
  {
   "cell_type": "code",
   "execution_count": null,
   "metadata": {},
   "outputs": [],
   "source": [
    "thresholding(result_intersectional_discr, group_by=None, data_name='Compound Bias')"
   ]
  },
  {
   "cell_type": "markdown",
   "metadata": {},
   "source": [
    "### Intersectionality"
   ]
  },
  {
   "cell_type": "code",
   "execution_count": null,
   "metadata": {},
   "outputs": [],
   "source": [
    "thetas = {'G': 0.0,'R': 0.0, 'GR': 0.25} # education\n",
    "beta_coef = {'G': 0.0,'R': 0.0,'GR': 4.0} # income\n",
    "rhos = {'G': 0.0,'R': 0.0,'GR': 9.5} # amount\n",
    "kappas = {'G': 0.0,'R': 0.0,'GR': 8.9} # duration\n",
    "nus = {'G': 0.0,'R': 0.0,'GR': 2.0} # outcome\n",
    "lambdas = {'E': 1.0,'I': 1.0,'L': 1.0,'D': -1.0,'Y': 1.0}\n",
    "\n",
    "\n",
    "generator_intersectional_discri = SyntheticLoanDataGenerator(sample_size=sample_size,\n",
    "                                    random_seed=random_seed,prob_gender=prob_gender,\n",
    "                                    prob_race=prob_race, beta=beta, beta_I = beta_I, \n",
    "                                    beta_S =beta_S, gamma=gamma,\n",
    "                                    eta=eta,delta=delta,\n",
    "                                    measure_bias_col='Gender',thetas=thetas,\n",
    "                                    beta_coef=beta_coef,rhos=rhos,kappas=kappas,\n",
    "                                    nus=nus,lambdas=lambdas)\n",
    "\n",
    "\n",
    "# Generate the data\n",
    "result_intersectional_discr = generator_intersectional_discri.synthetic_data_generation()\n",
    "data_intersectional_discr = result_intersectional_discr['data_df']\n",
    "data_intersectional_discr.to_csv(f'synthetic_data/only_intersectional_discri_tg{sample_size}.csv', index=False)\n",
    "generator_intersectional_discri.measure_discrimination(data_intersectional_discr, data_name = 'Intersectional Discrimination', plot=True, plot_intersectional=plot_intersectional)"
   ]
  },
  {
   "cell_type": "code",
   "execution_count": null,
   "metadata": {},
   "outputs": [],
   "source": [
    "thresholding(result_no_multiple_intersectional_discr, group_by=None, data_name='Intersectional Discrimination')"
   ]
  },
  {
   "cell_type": "code",
   "execution_count": null,
   "metadata": {},
   "outputs": [],
   "source": [
    "from plots import visualize_histograms\n",
    "\n",
    "data_combined = pd.concat([data_df_no_discr.assign(Scenario='No Discrimination'),\n",
    "                           data_df_single_discr.assign(Scenario='Single Discrimination'), \n",
    "                           data_df_multiple_discr.assign(Scenario='Multiple Discrimination'),\n",
    "                           data_df_intersectional_discr.assign(Scenario='Intersectional Discrimination'),\n",
    "                           data_only_multiple_intersectional_discr.assign(Scenario='Only Intersectional Discrimination')])\n",
    "\n",
    "visualize_histograms(data_combined, data_name='Combined Dataset Scenarios', measure_bias_col='Scenario')\n",
    "\n"
   ]
  },
  {
   "cell_type": "code",
   "execution_count": null,
   "metadata": {},
   "outputs": [],
   "source": [
    "import pandas as pd\n",
    "\n",
    "def summarize_dataset(df, dataset_name, sensitive_attrs=('Gender', 'Race'), outcome_col='Y'):\n",
    "    df = df.copy()\n",
    "\n",
    "    # Create intersectional group column if it doesn't exist\n",
    "    if 'Group' not in df.columns:\n",
    "        df['Group'] = df[sensitive_attrs[0]].astype(str) + \"_\" + df[sensitive_attrs[1]].astype(str)\n",
    "\n",
    "    # Group-level outcome summary\n",
    "    summary = df.groupby('Group')[outcome_col].agg(['mean', 'count']).reset_index()\n",
    "    summary.columns = ['Group', 'Y=1 Rate', 'Count']\n",
    "    summary.insert(0, 'Dataset', dataset_name)\n",
    "\n",
    "    # Covariate summary\n",
    "    covariates = ['Education', 'Income', 'Savings', 'LoanAmount', 'Duration']\n",
    "    cov_summary = df[covariates].describe().T.reset_index()\n",
    "    cov_summary.columns = ['Covariate', 'Count', 'Mean', 'Std', 'Min', '25%', '50%', '75%', 'Max']\n",
    "    cov_summary.insert(0, 'Dataset', dataset_name)\n",
    "\n",
    "    return summary, cov_summary\n",
    "\n",
    "\n",
    "\n",
    "\n",
    "dataset_dict = {'no bias': data_df_no_discr,\n",
    " 'single bias': data_df_single_discr,\n",
    " 'additive bias': data_df_multiple_discr,\n",
    " 'compounded bias': data_df_intersectional_discr,\n",
    " 'intersectional bias': data_only_multiple_intersectional_discr}\n",
    "\n",
    "\n",
    "results = []\n",
    "covariate_stats = []\n",
    "\n",
    "for name, df in dataset_dict.items():\n",
    "    g_summary, cov_summary = summarize_dataset(df, dataset_name=name)\n",
    "    results.append(g_summary)\n",
    "    covariate_stats.append(cov_summary)\n",
    "\n",
    "full_group_summary = pd.concat(results)\n",
    "full_cov_summary = pd.concat(covariate_stats)\n",
    "\n"
   ]
  }
 ],
 "metadata": {
  "kernelspec": {
   "display_name": "intersectionality",
   "language": "python",
   "name": "python3"
  },
  "language_info": {
   "codemirror_mode": {
    "name": "ipython",
    "version": 3
   },
   "file_extension": ".py",
   "mimetype": "text/x-python",
   "name": "python",
   "nbconvert_exporter": "python",
   "pygments_lexer": "ipython3",
   "version": "3.11.9"
  }
 },
 "nbformat": 4,
 "nbformat_minor": 2
}
